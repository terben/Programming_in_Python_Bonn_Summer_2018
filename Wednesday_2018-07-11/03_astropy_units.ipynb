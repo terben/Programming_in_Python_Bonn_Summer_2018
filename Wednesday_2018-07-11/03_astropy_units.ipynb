{
 "cells": [
  {
   "cell_type": "markdown",
   "metadata": {},
   "source": [
    "# Astropy: Units and Constants"
   ]
  },
  {
   "cell_type": "markdown",
   "metadata": {},
   "source": [
    "## Documentation"
   ]
  },
  {
   "cell_type": "markdown",
   "metadata": {},
   "source": [
    "For more information about the features presented below, you can read the\n",
    "[astropy.units](http://docs.astropy.org/en/stable/units/index.html) docs."
   ]
  },
  {
   "cell_type": "markdown",
   "metadata": {},
   "source": [
    "## Purpose of the module\n",
    "We often need to deal with quantities consisting of a numerical value and a *phsyical unit*. Keeping track of concrete units in more complex expressions manually is very prone to errors and cumbersome. As an example consider the following dimensionless expressions that you had to deal with in project 6:\n",
    "$$\n",
    "q = \\left(\\frac{T}{2\\pi GM_{\\odot}} \\right)^{1/3} v.\n",
    "$$\n",
    "The `astropy.units`-module allows us to comfortably deal with such expressions."
   ]
  },
  {
   "cell_type": "markdown",
   "metadata": {},
   "source": [
    "## Representing units and quantities (numbers with attached units)"
   ]
  },
  {
   "cell_type": "markdown",
   "metadata": {},
   "source": [
    "### Units"
   ]
  },
  {
   "cell_type": "markdown",
   "metadata": {},
   "source": [
    "Astropy includes a powerful framework for units that allows users to attach\n",
    "units to scalars and `numpy`-arrays, and manipulate/combine these, keeping track of\n",
    "the units.\n",
    "\n",
    "Names for units are intuitive and astropy really contains *all* units that we need! Units can be accessed with:"
   ]
  },
  {
   "cell_type": "code",
   "execution_count": null,
   "metadata": {},
   "outputs": [],
   "source": [
    "import astropy.units as au\n",
    "\n",
    "# basic units\n",
    "u = au.m  # meter (irreducible base unit)\n",
    "print(type(u))\n",
    "print(u.to(au.km)) # conversion to km\n",
    "print(u.find_equivalent_units())  # list other relevant length units"
   ]
  },
  {
   "cell_type": "markdown",
   "metadata": {},
   "source": [
    "**Notes:**\n",
    "- See [this link](http://docs.astropy.org/en/stable/units/standard_units.html) for a list of base-units (not complete!)\n",
    "- For a given *base-unit* such as meters, all prefixes (*k*=kilo, *m*=milli) etc. can be used\n",
    "- The `find_equivalent_units`-function does not list **all** available units, only the *most* relevant ones\n",
    "- Base units can be arbitrarily combined to compound units"
   ]
  },
  {
   "cell_type": "code",
   "execution_count": null,
   "metadata": {},
   "outputs": [],
   "source": [
    "import astropy.units as au\n",
    "import astropy.units.imperial as aui\n",
    "\n",
    "aui.enable()  # enable units used in England / the USA\n",
    "u = au.m\n",
    "print(u.find_equivalent_units())\n",
    "\n",
    "cu = au.kg * au.m / au.s**2  # arbitrary combination of base-units\n",
    "print(type(cu))\n",
    "print(cu.find_equivalent_units())"
   ]
  },
  {
   "cell_type": "markdown",
   "metadata": {},
   "source": [
    "There is a specific `dimensionless_unscaled`-unit:"
   ]
  },
  {
   "cell_type": "code",
   "execution_count": null,
   "metadata": {},
   "outputs": [],
   "source": [
    "import astropy.units as su\n",
    "\n",
    "u = au.km / au.m\n",
    "print(u.to(au.dimensionless_unscaled))"
   ]
  },
  {
   "cell_type": "markdown",
   "metadata": {},
   "source": [
    "### Quantities and `numpy`-arrays"
   ]
  },
  {
   "cell_type": "markdown",
   "metadata": {},
   "source": [
    "The most useful feature about the units is the ability to attach them to\n",
    "numerical scalars or arrays, creating ``Quantity`` objects. These can be used naturally with many `numpy`-functions."
   ]
  },
  {
   "cell_type": "code",
   "execution_count": null,
   "metadata": {},
   "outputs": [],
   "source": [
    "%matplotlib inline\n",
    "import numpy as np\n",
    "import astropy.units as au\n",
    "import matplotlib.pyplot as plt\n",
    "\n",
    "q = 3. * au.deg  # scalar quantity\n",
    "print(type(q))\n",
    "# a quantity has a value and a unit!\n",
    "print(q.value, q.unit)\n",
    "\n",
    "q = 3.0 * au.cm / (2.0 * au.m)\n",
    "# automatic conversion to dimensionless units\n",
    "print(np.exp(q), np.exp(3.0e-2 / 2. ))\n",
    "\n",
    "# numpy-array of 'angles'\n",
    "a = np.linspace(0.0, 360.0, 40) * au.deg  \n",
    "b = np.sin(a) # correct interpretation of the units!\n",
    "print(b)\n",
    "\n",
    "# plots behave as expected; the values are plotted:\n",
    "#plt.plot(a, b)"
   ]
  },
  {
   "cell_type": "markdown",
   "metadata": {},
   "source": [
    "### Combining and converting quantities"
   ]
  },
  {
   "cell_type": "markdown",
   "metadata": {},
   "source": [
    "Quantities can be combined in a very natural way"
   ]
  },
  {
   "cell_type": "code",
   "execution_count": null,
   "metadata": {},
   "outputs": [],
   "source": [
    "import numpy as np\n",
    "import astropy.units as au\n",
    "\n",
    "q1 = 3.0 * au.m\n",
    "q2 = 3.0 * au.cm\n",
    "\n",
    "q3 = q1 / q2\n",
    "print(q3.value, q3.unit, q3.to(au.dimensionless_unscaled))\n",
    "\n",
    "q3 = q1 * q2\n",
    "print(q3.value, q3.unit, q3.to(au.m**2))\n",
    "\n",
    "q1 = np.linspace(1.0, 60.0, 10) * au.arcmin\n",
    "q2 = np.linspace(1.0, 600.0, 10) * au.arcsec\n",
    "\n",
    "q3 = q1 * q2\n",
    "print(q3.to(au.deg**2))"
   ]
  },
  {
   "cell_type": "markdown",
   "metadata": {},
   "source": [
    "Quantities can be converted to the SI or CGS system"
   ]
  },
  {
   "cell_type": "code",
   "execution_count": null,
   "metadata": {},
   "outputs": [],
   "source": [
    "q = (3. * au.cm * au.pc / au.g / au.year**2)\n",
    "si = q.decompose()  # SI is the default\n",
    "print(si)\n",
    "\n",
    "cgs = q.decompose(au.cgs.bases)\n",
    "print(cgs)"
   ]
  },
  {
   "cell_type": "markdown",
   "metadata": {},
   "source": [
    "### Physical constants"
   ]
  },
  {
   "cell_type": "markdown",
   "metadata": {},
   "source": [
    "The [astropy.constants](http://docs.astropy.org/en/stable/constants/index.html) module contains\n",
    "physical constants relevant for Astronomy, and these are defined with units\n",
    "attached to them using the ``astropy.units`` framework.\n",
    "\n",
    "The full list of available physical constants is shown [here](http://docs.astropy.org/en/stable/constants/index.html#module-astropy.constants)."
   ]
  },
  {
   "cell_type": "code",
   "execution_count": null,
   "metadata": {},
   "outputs": [],
   "source": [
    "# We want to calculate the Gravitational force felt by a 100. * u.kg space probe by the Sun, at a\n",
    "#distance of 3.2au\n",
    "\n",
    "import astropy.units as au\n",
    "import astropy.constants as ac\n",
    "\n",
    "# Here we use the constant G:\n",
    "F = (ac.G * 1. au.M_sun * 100. * au.kg) / (3.2 * au.au)**2\n",
    "print(F.to(au.N))"
   ]
  },
  {
   "cell_type": "code",
   "execution_count": null,
   "metadata": {},
   "outputs": [],
   "source": [
    "# An example from the 6th project. We want to calculate 'q' in units of the jupyter mass\n",
    "\n",
    "radial_vel = 55. * au.m / au.s\n",
    "period = 4.23 * au.day\n",
    "\n",
    "q_sun = (period / (2. * np.pi * ac.G * ac.M_sun))**(1/3) * radial_vel\n",
    "q_jupy = q_sun * ac.M_sun / ac.M_jup\n",
    "\n",
    "print(q_jupy.to(au.dimensionless_unscaled))"
   ]
  },
  {
   "cell_type": "markdown",
   "metadata": {},
   "source": [
    "## Practical Exercises"
   ]
  },
  {
   "cell_type": "markdown",
   "metadata": {},
   "source": [
    "### Level 1"
   ]
  },
  {
   "cell_type": "markdown",
   "metadata": {},
   "source": [
    "What is 1 barn megaparsecs in teaspoons? Note that teaspoons are not part of the standard set of units, but it can be found in:"
   ]
  },
  {
   "cell_type": "code",
   "execution_count": null,
   "metadata": {},
   "outputs": [],
   "source": [
    "import astropy.units as au\n",
    "import astropy.units.imperial as aui\n",
    "\n",
    "aui.tsp.to(au.m**3)"
   ]
  },
  {
   "cell_type": "code",
   "execution_count": null,
   "metadata": {},
   "outputs": [],
   "source": [
    "# Your solution here"
   ]
  },
  {
   "cell_type": "markdown",
   "metadata": {},
   "source": [
    "### Level 2"
   ]
  },
  {
   "cell_type": "markdown",
   "metadata": {},
   "source": [
    "What is 3 nm^2 Mpc / m^3 in dimensionless units?"
   ]
  },
  {
   "cell_type": "code",
   "execution_count": null,
   "metadata": {},
   "outputs": [],
   "source": [
    "# Your solution here"
   ]
  }
 ],
 "metadata": {
  "kernelspec": {
   "display_name": "Python 3",
   "language": "python",
   "name": "python3"
  },
  "language_info": {
   "codemirror_mode": {
    "name": "ipython",
    "version": 3
   },
   "file_extension": ".py",
   "mimetype": "text/x-python",
   "name": "python",
   "nbconvert_exporter": "python",
   "pygments_lexer": "ipython3",
   "version": "3.6.6"
  }
 },
 "nbformat": 4,
 "nbformat_minor": 1
}
