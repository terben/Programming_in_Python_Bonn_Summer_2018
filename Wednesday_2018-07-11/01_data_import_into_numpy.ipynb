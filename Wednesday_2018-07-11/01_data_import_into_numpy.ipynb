{
 "cells": [
  {
   "cell_type": "markdown",
   "metadata": {},
   "source": [
    "# Import of external data into `numpy`-arrays\n",
    "Beginners often have difficulties to import scientific data from external sources into `numpy`-arrays."
   ]
  },
  {
   "cell_type": "markdown",
   "metadata": {},
   "source": [
    "## Small data sets in tabulated `ascii`-files\n",
    "We already imported small data-volumes from text files into `numpy`-arrays. This can be done with the `loadtxt`-function. We repeat it here for completeness."
   ]
  },
  {
   "cell_type": "code",
   "execution_count": null,
   "metadata": {},
   "outputs": [],
   "source": [
    "!cat data/Cobe.txt"
   ]
  },
  {
   "cell_type": "code",
   "execution_count": null,
   "metadata": {
    "scrolled": true
   },
   "outputs": [],
   "source": [
    "%matplotlib inline\n",
    "import matplotlib.pyplot as plt\n",
    "import numpy as np\n",
    "\n",
    "# text files can be imported with loadtxt.\n",
    "# Pay attention to data-types if necessary\n",
    "data = np.loadtxt('data/Cobe.txt', dtype=np.float32)\n",
    "\n",
    "# give meaningful names to individual data columns\n",
    "x = data[:,0]\n",
    "y = data[:,1]\n",
    "# note the units between data points and errors!\n",
    "error = data[:,2] / 100.\n",
    "\n",
    "# word on the data\n",
    "plt.errorbar(x, y, error, fmt='o')"
   ]
  },
  {
   "cell_type": "markdown",
   "metadata": {},
   "source": [
    "**Note:** It is similarily easy to also read `ascii`-data in different formats than simple rows and columns, e.g. `comma-separated-value (csv)` files - see options of `np.loadtxt`.\n",
    " \n",
    "This approach is no longer optimal for *large* data sets with many columns. We will have a look at better options to represent data from text-files in the [astropy-tables notebook](02_astropy_intro_and_tables.ipynb)."
   ]
  },
  {
   "cell_type": "markdown",
   "metadata": {},
   "source": [
    "## `ASCII` files and binary files\n",
    "- Advantages of `ascii`-files:\n",
    "  - Human readable\n",
    "  - Can be inspected / edited with a texteditor\n",
    "  - Can be inspected / manipulated with *Unix*-tools (`awk` etc.)\n",
    "  - Can be imported and exported easily into nearly each application working with data tables\n",
    "  - The meaning of different columns is typically *clear* - no need to store sophisticated *meta-data*\n",
    "  - You do not need to know about the internal data structure (data-types etc.) before the data were written\n",
    "- Disadvantages of `ascii`-files:\n",
    "  - One file can only represent *one* data-table if you want to preserve all the advantages\n",
    "  - Difficulties with missing data (problems with Unix-tools, need special characters etc.)\n",
    "  - *Much* larger (disk-space) than binary-data (each character is a byte!)\n",
    "  - Very slow to read and write\n",
    "  \n",
    "The `ASCII`-format is optimal for small amounts of *homegeneous* data but not practical for very large data sets.  "
   ]
  },
  {
   "cell_type": "markdown",
   "metadata": {},
   "source": [
    "## The `numpy`-binary format\n",
    "`Numpy` support an easy to use binary format which is ideal to store `numpy`-arrays on disk and to read them\n",
    "later. You saw this format already in project 5."
   ]
  },
  {
   "cell_type": "code",
   "execution_count": null,
   "metadata": {},
   "outputs": [],
   "source": [
    "import numpy as np\n",
    "\n",
    "data = np.loadtxt('data/Cobe.txt', dtype=np.float32)\n",
    "\n",
    "# numpy-arrays can be stored in an own binary-fomat\n",
    "# (file-ending -.npy)\n",
    "np.save('data/Cobe.npy', data)"
   ]
  },
  {
   "cell_type": "code",
   "execution_count": null,
   "metadata": {},
   "outputs": [],
   "source": [
    "# You can no longer easily look at the data outside of Python!\n",
    "!ls -ltr data\n",
    "%%time!cat data/Cobe.npy"
   ]
  },
  {
   "cell_type": "code",
   "execution_count": null,
   "metadata": {},
   "outputs": [],
   "source": [
    "import numpy as np\n",
    "\n",
    "# The .npy-format can be read into an array without any effort.\n",
    "# Note however that 'meta data' (comments) cannot be stored with the data.\n",
    "Cobe_data = np.load('data/Cobe.npy')\n",
    "\n",
    "print(Cobe_data)"
   ]
  },
  {
   "cell_type": "markdown",
   "metadata": {},
   "source": [
    "## Raw binary-data from `C` or `Fortran` programs\n",
    "Sometimes, you would like to import raw binary data created from a `C` or `Fortran` program to postprocess them with Python (visualise simulation data for instance).\n",
    "\n",
    "The following `C`-program writes a float and an int-array to two files. We want to read them into `numpy`-arrays later:\n",
    "\n",
    "```c\n",
    "#include <stdio.h>\n",
    "\n",
    "int main(void) {\n",
    "\n",
    "  FILE *file;\n",
    "  const int nx = 10;\n",
    "  /* In C, float is float32 */\n",
    "  float float_array[nx];\n",
    "  /* in C, short int is int16 */\n",
    "  short int int_array[nx];\n",
    "  int i;\n",
    "\n",
    "  for (i = 0; i < nx; i++) {\n",
    "    float_array[i] = i * 1.5;\n",
    "    int_array[i] = i * 2;\n",
    "  }\n",
    "\n",
    "  file = fopen(\"data/c-data_float.bin\", \"wb\");\n",
    "  fwrite(float_array, sizeof(float_array), 1, file);\n",
    "  fclose(file);\n",
    "\n",
    "  file = fopen(\"data/c-data_int.bin\", \"wb\");\n",
    "  fwrite(int_array, sizeof(int_array), 1, file);\n",
    "  fclose(file);\n",
    "\n",
    "  return 0;\n",
    "}\n",
    "\n",
    "```"
   ]
  },
  {
   "cell_type": "code",
   "execution_count": null,
   "metadata": {},
   "outputs": [],
   "source": [
    "# compile the code and run it. It will create the files\n",
    "# data/c-data_float.bin and data/c-data_int.bin\n",
    "!gcc -o code/float_int.exe code/float_int.c -lm\n",
    "!./code/float_int.exe\n",
    "!ls -ltr data"
   ]
  },
  {
   "cell_type": "markdown",
   "metadata": {},
   "source": [
    "It is easy to read such files into `numpy`-arrays **IF** you know how they were written. You need to know the following *meta-data*:\n",
    "- The type of the data (`float32`, `int16` etc.)\n",
    "- The structure of the data (multidimensionals arrays, shapes)\n",
    "- (big endian or little endian representation of the data)\n",
    "- (Fortran or C-ordering of multidimensional arrays)\n",
    "\n",
    "If you ask somebody for help, it is the easiest to show the code with that the data was written (along with the infromation on which machine it was created)!"
   ]
  },
  {
   "cell_type": "code",
   "execution_count": null,
   "metadata": {},
   "outputs": [],
   "source": [
    "# script to read the binary C-data into numpy-arrays\n",
    "# The reading can be done with the function np.fromfile\n",
    "import numpy as np\n",
    "\n",
    "# read the float-data\n",
    "f = open('data/c-data_float.bin')\n",
    "\n",
    "# we know that the data is float 32.\n",
    "data_float = np.fromfile(f, dtype=np.float32)\n",
    "f.close()\n",
    "\n",
    "print(data_float)\n",
    "\n",
    "# read the int-data\n",
    "f = open('data/c-data_int.bin')\n",
    "\n",
    "# we know that the data is int16\n",
    "data_int = np.fromfile(f, dtype=np.int16)\n",
    "f.close()\n",
    "\n",
    "print(data_int)\n"
   ]
  },
  {
   "cell_type": "markdown",
   "metadata": {},
   "source": [
    "## Data from standardized binary formats"
   ]
  },
  {
   "cell_type": "markdown",
   "metadata": {},
   "source": [
    "There are **many** standards to store scientific data (together with their meta data) in binary form. In astronomy, the `FITS` (Flexibible Image Transfort System) is very common. It can store images, tables and spectra. It is covered within the `astropy.io.fits`-module.\n",
    "\n",
    "Another common format is [`HDF` (Hierarchical Data format)](https://de.wikipedia.org/wiki/Hierarchical_Data_Format) - beware of different versions. The `HDF` version 5 format was used for the [Aqua](http://en.wikipedia.org/wiki/Aqua_%28satellite%29) satellite data that you worked with in project 5 ([here are the original data](http://www.iup.uni-bremen.de/seaice/amsredata/asi_daygrid_swath/l1a/n6250/)).\n",
    "\n",
    "There are Python-modules to read all relevant, standardized binary data-formats into `numpy`-arrays - at least I was never unsuccessful to find a suitable module for what I need! Dr. Google will help you!\n",
    "\n",
    "I used [this webpage](https://www.science-emergence.com/Articles/How-to-read-a-MODIS-HDF-file-using-python-/) for examples on how to read the `HDF`-files for project 5 with the `pyhdf`-module.\n",
    "\n",
    "**Note:** The `pyhdf`-module is not contained in the standard anaconda installation. You probably need to install it with (Linux commandline):\n",
    "```\n",
    "user$ conda install -c conda-forge pyhdf\n",
    "\n",
    "```"
   ]
  },
  {
   "cell_type": "code",
   "execution_count": null,
   "metadata": {},
   "outputs": [],
   "source": [
    "# script to transform Aqua Icemap data for Project 5.\n",
    "# We transform the HDF format to simple numpy-format so that\n",
    "# the students do not need to deal with the HDF data-format.\n",
    "# We also bin the data by a factor of 2 to make the data-volume\n",
    "# smaller.\n",
    "%matplotlib inline\n",
    "import matplotlib.pyplot as plt\n",
    "import pyhdf.SD as pS\n",
    "\n",
    "def rebin(arr, new_shape):\n",
    "    \"\"\"\n",
    "    The function rebins a numpy-array to smaller\n",
    "    resolution. The new shape needs to be a multiple\n",
    "    (in each dimension) of the old shape.\n",
    "    \n",
    "    \"\"\"\n",
    "    shape = (new_shape[0], arr.shape[0] // new_shape[0],\n",
    "             new_shape[1], arr.shape[1] // new_shape[1])\n",
    "    return arr.reshape(shape).mean(-1).mean(1)\n",
    "\n",
    "# read the HDF data into a numpy-array.\n",
    "# The following commands were extracted from the HDF-tutorial\n",
    "# (see above)\n",
    "file_name = 'data/asi-n6250-20110101-v5.hdf'\n",
    "hdf_file = pS.SD(file_name, pS.SDC.READ)\n",
    "sds_obj = hdf_file.select('ASI Ice Concentration')\n",
    "# data contains a numpy-array of the Ice-concentration data\n",
    "data = sds_obj.get()\n",
    "\n",
    "# cut essential data, rebin and save to numpy-format\n",
    "essential_data = rebin(data[300:1400,100:1100], (550, 500))\n",
    "np.save('data/{0}.npy'.format(file_name[15:23]), essential_data)\n",
    "\n",
    "# just make a plot to verify the data\n",
    "plt.figure(figsize=(8,8))\n",
    "plt.imshow(essential_data, origin='lower', cmap=plt.cm.jet)\n",
    "plt.show()\n",
    "##"
   ]
  },
  {
   "cell_type": "code",
   "execution_count": null,
   "metadata": {},
   "outputs": [],
   "source": []
  }
 ],
 "metadata": {
  "kernelspec": {
   "display_name": "Python 3",
   "language": "python",
   "name": "python3"
  },
  "language_info": {
   "codemirror_mode": {
    "name": "ipython",
    "version": 3
   },
   "file_extension": ".py",
   "mimetype": "text/x-python",
   "name": "python",
   "nbconvert_exporter": "python",
   "pygments_lexer": "ipython3",
   "version": "3.6.6"
  }
 },
 "nbformat": 4,
 "nbformat_minor": 2
}
