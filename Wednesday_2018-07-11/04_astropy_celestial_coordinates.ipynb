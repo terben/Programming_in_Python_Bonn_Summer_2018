{
 "cells": [
  {
   "cell_type": "markdown",
   "metadata": {},
   "source": [
    "# Astropy: Celestial Coordinates\n",
    "This notebook is heavily based on one from Thomas Robitaille"
   ]
  },
  {
   "cell_type": "markdown",
   "metadata": {},
   "source": [
    "## Documentation"
   ]
  },
  {
   "cell_type": "markdown",
   "metadata": {},
   "source": [
    "For more information about the features presented below, you can read the\n",
    "[astropy.coordinates](http://docs.astropy.org/en/stable/coordinates/index.html) docs."
   ]
  },
  {
   "cell_type": "markdown",
   "metadata": {},
   "source": [
    "## Representing and converting coordinates"
   ]
  },
  {
   "cell_type": "markdown",
   "metadata": {},
   "source": [
    "Astropy includes a framework to represent celestial coordinates and transform\n",
    "between them. Astropy includes common coordinate systems (ICRS (Ra and Dec), Galactic, and AltAz).\n",
    "\n",
    "Creating coordinate objects is straightforward:"
   ]
  },
  {
   "cell_type": "code",
   "execution_count": null,
   "metadata": {},
   "outputs": [],
   "source": [
    "import astropy.coordinates as ac\n",
    "import astropy.units as au"
   ]
  },
  {
   "cell_type": "code",
   "execution_count": null,
   "metadata": {},
   "outputs": [],
   "source": [
    "# different ways to represent Ra and Dec coordinates\n",
    "obj_1 = ac.SkyCoord(ra=10.68458 * au.deg, dec=41.26917 * au.deg)\n",
    "obj_2 = ac.SkyCoord(ra='00:42:44.3', dec='+41:16:09', unit=(au.hourangle, au.deg))\n",
    "obj_3 = ac.SkyCoord('00h42m44.3s +41d16m9s')\n",
    "\n",
    "print(obj_1, obj_2, obj_3)"
   ]
  },
  {
   "cell_type": "markdown",
   "metadata": {},
   "source": [
    "The individual components of a coordinate are ``Angle`` objects, and their\n",
    "values are accessed using special attributes:"
   ]
  },
  {
   "cell_type": "code",
   "execution_count": null,
   "metadata": {},
   "outputs": [],
   "source": [
    "print(obj_1.ra)\n",
    "print(obj_1.ra.hour)\n",
    "print(obj_1.ra.hms)\n",
    "print(obj_1.dec)\n",
    "print(obj_1.dec.radian)"
   ]
  },
  {
   "cell_type": "markdown",
   "metadata": {},
   "source": [
    "To convert to some other coordinate system, the easiest method is to use\n",
    "attribute-style access with short names for the built-in systems:"
   ]
  },
  {
   "cell_type": "code",
   "execution_count": null,
   "metadata": {},
   "outputs": [],
   "source": [
    "obj_1.galactic"
   ]
  },
  {
   "cell_type": "markdown",
   "metadata": {},
   "source": [
    "but explicit transformations via the ``transform_to`` method are also available:"
   ]
  },
  {
   "cell_type": "code",
   "execution_count": null,
   "metadata": {},
   "outputs": [],
   "source": [
    "obj_1.transform_to('galactic')"
   ]
  },
  {
   "cell_type": "markdown",
   "metadata": {},
   "source": [
    "The ``astropy.coordinates`` subpackage also provides a quick way to get coordinates for\n",
    "named objects (with an internet connection). The SkyCoord class has a method `from_name()`, that accepts a string and queries [Sesame](http://cds.u-strasbg.fr/cgi-bin/Sesame) to retrieve coordinates for that\n",
    "object:"
   ]
  },
  {
   "cell_type": "code",
   "execution_count": null,
   "metadata": {},
   "outputs": [],
   "source": [
    "# obtain coordinates from the cluster Abell 1689 over the internet\n",
    "a1689_coord = ac.SkyCoord.from_name(\"A1689\")\n",
    "a1689_coord"
   ]
  },
  {
   "cell_type": "markdown",
   "metadata": {},
   "source": [
    "## Using arrays in coordinates"
   ]
  },
  {
   "cell_type": "markdown",
   "metadata": {},
   "source": [
    "Numpy arrays and table columns can be used inside coordinate objects instead of scalar floating point values (this is much more efficient that creating one coordinate object for each source). The following example demonstrates how one can combine the ``Table`` class with coordinate objects."
   ]
  },
  {
   "cell_type": "code",
   "execution_count": null,
   "metadata": {},
   "outputs": [],
   "source": [
    "# obtain coordinates of open clusters fro the Lab-course:\n",
    "import astropy.io.ascii as aia\n",
    "\n",
    "open_clusters = aia.read('data/open_clusters.txt')\n",
    "open_clusters"
   ]
  },
  {
   "cell_type": "code",
   "execution_count": null,
   "metadata": {},
   "outputs": [],
   "source": [
    "cluster_coord = ac.SkyCoord(open_clusters['RA'], open_clusters['DEC'], unit=(au.hourangle, au.deg))"
   ]
  },
  {
   "cell_type": "markdown",
   "metadata": {},
   "source": [
    "## Converting to/from AltAz - Planning Lab observations of NGC581"
   ]
  },
  {
   "cell_type": "markdown",
   "metadata": {},
   "source": [
    "For your LAB-course (photometry of star clusters), you had to plan your observations and to create plots as the following (visibility of your objects):\n",
    "<img src=\"figs/obs_ngc6913.png\" style=\"width: 500px\">"
   ]
  },
  {
   "cell_type": "code",
   "execution_count": null,
   "metadata": {},
   "outputs": [],
   "source": [
    "import numpy as np\n",
    "import astropy.units as au\n",
    "import astropy.time as at\n",
    "import astropy.coordinates as ac\n",
    "\n",
    "ngc6913 = ac.SkyCoord.from_name('NGC6913')\n",
    "ngc6913"
   ]
  },
  {
   "cell_type": "code",
   "execution_count": null,
   "metadata": {},
   "outputs": [],
   "source": [
    "# location of AIfA (taken from the LAB manual)\n",
    "AIfA = ac.EarthLocation(lon='07d04m01s', lat='50d43m46s', height=75 * au.m)\n",
    "utcoffset = +2 * au.hour  # time offset w.r.t. UTC (note: summer time!)\n",
    "time = at.Time('2018-07-11T00:00:00') - utcoffset"
   ]
  },
  {
   "cell_type": "code",
   "execution_count": null,
   "metadata": {},
   "outputs": [],
   "source": [
    "ngc6913altaz = ngc6913.transform_to(ac.AltAz(obstime=time,location=AIfA))"
   ]
  },
  {
   "cell_type": "code",
   "execution_count": null,
   "metadata": {},
   "outputs": [],
   "source": [
    "ngc6913altaz.alt"
   ]
  },
  {
   "cell_type": "markdown",
   "metadata": {},
   "source": [
    "We now want to make a plot of the altitude vs time to plan our observations"
   ]
  },
  {
   "cell_type": "code",
   "execution_count": null,
   "metadata": {},
   "outputs": [],
   "source": [
    "midnight = at.Time('2018-07-11T00:00:00') - utcoffset\n",
    "delta_midnight = np.linspace(-4, 7, 100) * au.hour"
   ]
  },
  {
   "cell_type": "code",
   "execution_count": null,
   "metadata": {},
   "outputs": [],
   "source": [
    "ngc6913altazs = ngc6913.transform_to(ac.AltAz(obstime=midnight+delta_midnight, location=AIfA))  "
   ]
  },
  {
   "cell_type": "markdown",
   "metadata": {},
   "source": [
    "We can now plot the results:"
   ]
  },
  {
   "cell_type": "code",
   "execution_count": null,
   "metadata": {},
   "outputs": [],
   "source": [
    "%matplotlib inline\n",
    "import matplotlib.pyplot as plt\n",
    "\n",
    "plt.plot(delta_midnight, ngc6913altazs.alt)  \n",
    "plt.xlim(-4, 7)  \n",
    "plt.ylim(10, 90)\n",
    "#plt.ylim(1.5, 1.0)\n",
    "plt.axhline(0, color='k', ls='dashed')\n",
    "plt.xlabel('Hours from Midnight')  \n",
    "plt.ylabel('object elevation over the horizon [deg]')  \n",
    "plt.show()"
   ]
  }
 ],
 "metadata": {
  "kernelspec": {
   "display_name": "Python 3",
   "language": "python",
   "name": "python3"
  },
  "language_info": {
   "codemirror_mode": {
    "name": "ipython",
    "version": 3
   },
   "file_extension": ".py",
   "mimetype": "text/x-python",
   "name": "python",
   "nbconvert_exporter": "python",
   "pygments_lexer": "ipython3",
   "version": "3.6.6"
  }
 },
 "nbformat": 4,
 "nbformat_minor": 1
}
