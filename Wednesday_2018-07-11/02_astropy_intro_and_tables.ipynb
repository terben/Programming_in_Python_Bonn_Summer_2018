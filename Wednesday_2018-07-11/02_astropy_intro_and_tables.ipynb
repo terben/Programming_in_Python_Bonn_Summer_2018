{
 "cells": [
  {
   "cell_type": "markdown",
   "metadata": {},
   "source": [
    "# Astropy (Community Python Library for Astronomy)"
   ]
  },
  {
   "cell_type": "markdown",
   "metadata": {},
   "source": [
    "There are *many* libraries for very specific astronomical applications. You should use/prefer `astropy` if you can:\n",
    "- Has its origins at the Space Telescope Science Institute; still supports core developers. The project is now a *community-based* open sozurce project at [github](https://github.com/astropy/astropy).\n",
    "- Many maintainers - *very* active development - constant improvements. A [publication](http://esoads.eso.org/abs/2018arXiv180102634T) on astropy v2 was written at the end of 2017. We are now at version 3 already!\n",
    "- `Astropy` is *data-oriented* - not many modules for theoretical calculations / analyses\n",
    "- Please consider contributing!"
   ]
  },
  {
   "cell_type": "markdown",
   "metadata": {},
   "source": [
    "## Documentation\n",
    "The up-to-date documentation can be found [here](http://www.astropy.org/). (Re)visit the pages often as they undergo frequent modifications (very rapid development). "
   ]
  },
  {
   "cell_type": "markdown",
   "metadata": {},
   "source": [
    "## Some core functionalities (incomplete)\n",
    "- Dedicated data structures\n",
    "  - [Numbers and units (quantities)](http://docs.astropy.org/en/stable/units/index.html)\n",
    "  - [Sophisticated data structures](http://docs.astropy.org/en/stable/table/index.html)\n",
    "  - [Astronomical coordinate systems](http://docs.astropy.org/en/stable/coordinates/index.html)\n",
    "  - [Dates and Times](http://docs.astropy.org/en/stable/time/index.html)\n",
    "  - ...\n",
    "- File Input and Output\n",
    "  - [Import and Export of many ASCII-file formats](http://docs.astropy.org/en/stable/io/ascii/index.html)\n",
    "  - [FITS File Handling](http://docs.astropy.org/en/stable/io/fits/index.html)\n",
    "  - ...\n",
    "- Computations and Utilities\n",
    "  - [Cosmological calculations](http://docs.astropy.org/en/stable/cosmology/index.html)\n",
    "  - [Data Visualisation](http://docs.astropy.org/en/stable/visualization/index.html)\n",
    "  - ...\n",
    "- Affiliated packages\n",
    "  - [Access to astronomical data bases (astroquery)](https://astroquery.readthedocs.io/en/latest/)\n",
    "  - ..."
   ]
  },
  {
   "cell_type": "markdown",
   "metadata": {},
   "source": [
    "## Astropy - Tables and `ASCII`-files\n",
    "The `astropy.table` module offers a sophisticated framework to comfortably import/work/modify and export data tables. Right now, you will mainly want to use it when reading (larger) tables from ASCII-files:"
   ]
  },
  {
   "cell_type": "code",
   "execution_count": null,
   "metadata": {},
   "outputs": [],
   "source": [
    "# note the format of the file. After the comments, we give a line with the\n",
    "# column names of the quantities\n",
    "!head -15 data/Cobe_namedcol.txt"
   ]
  },
  {
   "cell_type": "code",
   "execution_count": null,
   "metadata": {},
   "outputs": [],
   "source": [
    "import numpy as np\n",
    "import astropy.table as at # not needed explicitely here\n",
    "                           # as also imported by astropy.io.ascii\n",
    "import astropy.io.ascii as aia\n",
    "\n",
    "cobe_table = aia.read('data/Cobe_namedcol.txt', comment='#')\n",
    "print(cobe_table)\n",
    "# The created object is an astropy table; with names columns!\n",
    "print(type(cobe_table))"
   ]
  },
  {
   "cell_type": "markdown",
   "metadata": {},
   "source": [
    "### Working with table objects\n",
    "A table consists of columns with meaningful names. You work with the data by accessing them directly with their names instead of *column numbers*! You essentially can work with table-columns as with `numpy`-arrays, plot them etc. At the end, you can export your data to a large variety of formats."
   ]
  },
  {
   "cell_type": "code",
   "execution_count": null,
   "metadata": {},
   "outputs": [],
   "source": [
    "# columns can be accessed with meaningful names instead of column numbers:\n",
    "print(cobe_table.columns) # list with the column names\n",
    "print(cobe_table['freq'])\n",
    "# original comments are available as meta-data:\n",
    "print(cobe_table.meta)\n",
    "#cobe_table"
   ]
  },
  {
   "cell_type": "code",
   "execution_count": null,
   "metadata": {},
   "outputs": [],
   "source": [
    "# accessing parts of a column works with usual slicing operations\n",
    "print(cobe_table['freq'][2:6])"
   ]
  },
  {
   "cell_type": "code",
   "execution_count": null,
   "metadata": {},
   "outputs": [],
   "source": [
    "# new columns can be created naturally and calculations can be\n",
    "# done as with numpy arrays\n",
    "cobe_table['flag'] = 0\n",
    "cobe_table['relaxed error'] = cobe_table['spectrum_error'] * 2.0\n",
    "print(cobe_table)"
   ]
  },
  {
   "cell_type": "code",
   "execution_count": null,
   "metadata": {},
   "outputs": [],
   "source": [
    "# create a new table with a filter on the cobe_table\n",
    "cobe_table_filt = cobe_table[cobe_table['freq'] < 10]\n",
    "cobe_table_filt"
   ]
  },
  {
   "cell_type": "code",
   "execution_count": null,
   "metadata": {},
   "outputs": [],
   "source": [
    "# iterate over rows of a Table\n",
    "for row in cobe_table_filt:\n",
    "    print(row)"
   ]
  },
  {
   "cell_type": "code",
   "execution_count": null,
   "metadata": {},
   "outputs": [],
   "source": [
    "%matplotlib inline\n",
    "import matplotlib.pyplot as plt\n",
    "\n",
    "# plotting of table columns also works in a natural way:\n",
    "plt.plot(cobe_table['freq'], cobe_table['spectrum'], 'o')"
   ]
  },
  {
   "cell_type": "code",
   "execution_count": null,
   "metadata": {},
   "outputs": [],
   "source": [
    "# finally export tables - a large variety of output formats is available (see below)\n",
    "cobe_table.write('data/Cobe_modified.txt', format='ascii')"
   ]
  },
  {
   "cell_type": "markdown",
   "metadata": {},
   "source": [
    "## Reading and Writing `astropy`-tables"
   ]
  },
  {
   "cell_type": "markdown",
   "metadata": {},
   "source": [
    "`astropy`-tables can be constructed (imported) from many different file-types and they can be exported to a large variety of useful formats. You can get detailed information on the involved data types [here](http://docs.astropy.org/en/stable/io/ascii/)."
   ]
  },
  {
   "cell_type": "code",
   "execution_count": null,
   "metadata": {},
   "outputs": [],
   "source": [
    "# A source catalogue from optical data obtained with the SExtractor program\n",
    "# It is a very specific (but common) ASCII-format to specify data columns, their names and\n",
    "# their units!\n",
    "!head -20 ./data/D1_g_small_sex.asc"
   ]
  },
  {
   "cell_type": "code",
   "execution_count": null,
   "metadata": {},
   "outputs": [],
   "source": [
    "sextr_table = aia.read('data/D1_g_small_sex.asc', format='sextractor')\n",
    "# You can investigate a table comfortably in your notebook:\n",
    "sextr_table.show_in_notebook()"
   ]
  },
  {
   "cell_type": "code",
   "execution_count": null,
   "metadata": {},
   "outputs": [],
   "source": [
    "# A table can be exported into a large variety of very useful formats:\n",
    "\n",
    "# LaTeX tables which you directly can import into your thesis:\n",
    "sextr_table.write('data/sextractor_table.tex', format='latex')\n",
    "\n",
    "# Astronomical FITS data tables:\n",
    "sextr_table.write('data/sextractor_table.fits', format='fits')"
   ]
  },
  {
   "cell_type": "code",
   "execution_count": null,
   "metadata": {},
   "outputs": [],
   "source": [
    "!head -20 data/sextractor_table.tex"
   ]
  }
 ],
 "metadata": {
  "kernelspec": {
   "display_name": "Python 3",
   "language": "python",
   "name": "python3"
  },
  "language_info": {
   "codemirror_mode": {
    "name": "ipython",
    "version": 3
   },
   "file_extension": ".py",
   "mimetype": "text/x-python",
   "name": "python",
   "nbconvert_exporter": "python",
   "pygments_lexer": "ipython3",
   "version": "3.6.6"
  }
 },
 "nbformat": 4,
 "nbformat_minor": 2
}
