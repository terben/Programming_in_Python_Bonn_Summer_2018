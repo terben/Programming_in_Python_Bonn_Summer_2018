{
 "cells": [
  {
   "cell_type": "markdown",
   "metadata": {},
   "source": [
    "# Two-dimensional vector fields with `matplotlib`"
   ]
  },
  {
   "cell_type": "markdown",
   "metadata": {},
   "source": [
    "I introduce some basics to plot vector-fields with `matplotlib` as it is needed in [the plate-condensator homework task](05_Homework_Week_8.ipynb/#plate_condensator)"
   ]
  },
  {
   "cell_type": "markdown",
   "metadata": {},
   "source": [
    "## Electrical potentials and electrical fields\n",
    "Given an electrical potential $\\Phi(x, y)$, the electric vector-field is given as $\\vec{E}=-\\nabla \\Phi(x, y)$. Below we plot the electrical field for several configurations of point charges:\n",
    "- The first example plots the field of a single, negatively charged point source at $(0, 0)$. This is to show you the basic principles with a small example.\n",
    "- The second example shws the field of an electric multipole. You can change the kind of multiploe (dipole, quadrupole, octupole etc.) you want within the script.\n",
    "\n",
    "The potential (in arbitrary units) of a point source at $(x_s, y_s)$ is given by:\n",
    "$$\n",
    "\\Phi_{\\rm point}(x, y)=\\frac {\\pm 1}{\\sqrt{(x-x_s)^2 + (y-y_s)^2}}.\n",
    "$$\n",
    "The $+1$ is for a positive charge and the $-1$ for a negative one."
   ]
  },
  {
   "cell_type": "markdown",
   "metadata": {},
   "source": [
    "Please note in the following cell:\n",
    "- The gradient of a scalar field can  be calculated with the `np.gradient` function.\n",
    "- Note the output (order of `x` and `y`-components) of the vector field from `np.gradient`\n",
    "- To plot the vector field, we basically have two functions: `plt.quiver` and `plt.streamplot`. `plt.quiver` plots individual vectors including direction and strength of the vector field. With our point-source, it is difficult to obtain a `nice-looking` plot but please play around with it anyways. `plt.streamplot` shows the *flow* of the field (negelcting the field-strength) and is better suited for our example.\n",
    "- In the `plt.quiver` command we only plot each fifth point for clarity of the plot. Please check what happens if you *do not* do this!"
   ]
  },
  {
   "cell_type": "markdown",
   "metadata": {},
   "source": [
    "### Plot of electric monopole"
   ]
  },
  {
   "cell_type": "code",
   "execution_count": null,
   "metadata": {},
   "outputs": [],
   "source": [
    "import matplotlib.pyplot as plt\n",
    "import numpy as np\n",
    "\n",
    "# define discretization of one edge of the square on which the potential is\n",
    "# to be calculated\n",
    "coordinates = np.linspace(-1.0, 1.0, 41)\n",
    "\n",
    "# necessary for np.gradient below\n",
    "dh = coordinates[1] - coordinates[0]\n",
    "\n",
    "# set up the meshgrid for plotting\n",
    "X, Y = np.meshgrid( coordinates , coordinates)\n",
    "\n",
    "# calculate the potential (on the two-dimensional grid)\n",
    "# avoid the singulatity at the origin:\n",
    "phi = 0 * X\n",
    "mask = X**2 + Y**2 > 0\n",
    "phi[mask] = -1. / np.sqrt(X[mask]**2 + Y[mask]**2)\n",
    "\n",
    "# calculate the gradient\n",
    "# - unexpected order of return values\n",
    "# - discretization size as the last two arguments\n",
    "#   (here the same for x and y)\n",
    "Ey, Ex = np.gradient(phi, dh, dh)\n",
    "\n",
    "# plot the charge\n",
    "plt.plot(0.0, 0.0, 'o', color='red', markersize=20)\n",
    "\n",
    "# Please play around with the following two calls to plot\n",
    "# vector fields!\n",
    "plt.quiver(X[::5,::5], Y[::5,::5], Ex[::5,::5], Ey[::5,::5])\n",
    "#plt.streamplot(X, Y, Ex, Ey, density=0.5, color='red')\n",
    "\n",
    "plt.axes().set_aspect('equal')\n",
    "plt.xlabel(r'$x$')\n",
    "plt.ylabel(r'$y$')\n",
    "plt.title('electric monopole')\n",
    "\n"
   ]
  },
  {
   "cell_type": "markdown",
   "metadata": {},
   "source": [
    "### Plot of electric multipole\n",
    "In the following, we plot the more complex electric field of a multipole. "
   ]
  },
  {
   "cell_type": "code",
   "execution_count": null,
   "metadata": {},
   "outputs": [],
   "source": [
    "# script to plot a vector field of an electrical\n",
    "# multipole.\n",
    "\n",
    "import numpy as np\n",
    "import matplotlib.pyplot as plt\n",
    "\n",
    "def point_source(x_s, y_s, charge, X, Y):\n",
    "    \"\"\"\n",
    "    calculate the electrostatic potential of a point source\n",
    "    at (x_s, y_s) on the two-dimensional grid (X, Y).\n",
    "    Charge can be +1 (positive charge) or -1 (negative charge).\n",
    "    \"\"\"\n",
    "\n",
    "    # make sure that we do not dicide by zero becase the potential\n",
    "    # of a point-source has a singularity!\n",
    "    phi = 0 * X\n",
    "    mask = (X - x_s)**2 + (Y - y_s)**2 > 0\n",
    "    phi[mask] = charge / np.sqrt((X[mask] - x_s)**2 + (Y[mask] - y_s)**2) \n",
    "\n",
    "    return phi\n",
    "\n",
    "# We consider a multiploe on a circle with radiius 0.5.\n",
    "# The grid on which to calculate the potenital ranges from\n",
    "# -1 to 1.\n",
    "x = np.linspace(-1, 1, 101)\n",
    "y = np.linspace(-1, 1, 101)\n",
    "\n",
    "# The grid-size is needed below to calculate the electric field\n",
    "dh_x = x[1] - x[0]\n",
    "dh_y = y[1] - y[0]\n",
    "\n",
    "X, Y = np.meshgrid(x, y)\n",
    "\n",
    "# the number of charges needs to be a power of 2:\n",
    "n_charges = 2**2 # (n=2: dipole; n=4: quadruploe: n=8: octupole)\n",
    "\n",
    "# the potential is zero at the start\n",
    "phi = 0 * X\n",
    "\n",
    "# setup the plot:\n",
    "plt.xlim(-1.0, 1.0)\n",
    "plt.ylim(-1.0, 1.0)\n",
    "\n",
    "charge = +1\n",
    "for i in range(n_charges):\n",
    "    angle = ((360.0 / n_charges) * i) * np.pi / 180.0\n",
    "    \n",
    "    x_s = 0.5 * np.cos(angle)\n",
    "    y_s = 0.5 * np.sin(angle)\n",
    "\n",
    "    phi = phi + point_source(x_s, y_s, charge, X, Y)\n",
    "\n",
    "    charge *= -1\n",
    "\n",
    "    if charge == 1:\n",
    "        color = 'blue'\n",
    "    else:\n",
    "        color = 'red'\n",
    "\n",
    "    plt.plot(x_s, y_s, 'o', color=color, markersize=20)\n",
    "\n",
    "# calculate the electric field from the gradient of the potential\n",
    "# phi. Note the order of the output! The Ey component comes first!\n",
    "Ey, Ex = np.gradient(-phi, dh_x, dh_y)\n",
    "\n",
    "plt.streamplot(X, Y, Ex, Ey, color='black', density=1.0)\n",
    "#plt.quiver(X[::10,::10], Y[::10,::10], Ex[::10,::10], Ey[::10,::10],\n",
    "#           angles='uv',\n",
    "#           color='r', units='x', linewidths=(2,), edgecolors=('k'),\n",
    "#           headaxislength=5)\n",
    "#plt.quiver(X, Y, Ex, Ey, color='black', density=1.5)\n",
    "plt.axes().set_aspect('equal')\n",
    "plt.xlabel(r'$x$')\n",
    "plt.ylabel(r'$y$')\n",
    "plt.title('electric multipole')\n"
   ]
  },
  {
   "cell_type": "code",
   "execution_count": null,
   "metadata": {},
   "outputs": [],
   "source": []
  }
 ],
 "metadata": {
  "anaconda-cloud": {},
  "kernelspec": {
   "display_name": "Python 3",
   "language": "python",
   "name": "python3"
  },
  "language_info": {
   "codemirror_mode": {
    "name": "ipython",
    "version": 3
   },
   "file_extension": ".py",
   "mimetype": "text/x-python",
   "name": "python",
   "nbconvert_exporter": "python",
   "pygments_lexer": "ipython3",
   "version": "3.6.5"
  }
 },
 "nbformat": 4,
 "nbformat_minor": 1
}
