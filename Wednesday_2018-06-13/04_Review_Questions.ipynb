{
 "cells": [
  {
   "cell_type": "markdown",
   "metadata": {},
   "source": [
    "# Monday, 13/06/2018: Review questions\n",
    "Here some review questions and (simple) exercises for the material that we covered in class. They should help you to identify topics that you should further reivew with the literature or the Internet.\n",
    "\n",
    "Please feel free to e-mail Joseph or myself for any questions you might have!"
   ]
  },
  {
   "cell_type": "markdown",
   "metadata": {},
   "source": [
    "**Please try to answer the following questions before executing any code. Do this only to verify your answers and use appropriate help-utilities if you are uncertain! For each problem you should be able to explain WHY you obtain a certain result!**"
   ]
  },
  {
   "cell_type": "markdown",
   "metadata": {},
   "source": [
    "- What is the output of the follwing code?\n",
    "  ```\n",
    "  import numpy as np\n",
    "  \n",
    "  a = np.ones(30).reshape((5, 6))\n",
    "\n",
    "  b = np.arange(6)\n",
    "  c = np.arange(5)\n",
    "  \n",
    "  print(a + b)\n",
    "  print(a + c)\n",
    "  ```"
   ]
  },
  {
   "cell_type": "markdown",
   "metadata": {
    "collapsed": true
   },
   "source": [
    "- What is the output of the follwing code? If you obtain an error, then correct the code.\n",
    "  ```\n",
    "  import numpy as np\n",
    "  \n",
    "  a = np.ones(5).reshape((5, 1))\n",
    "\n",
    "  b = np.arange(6)\n",
    "  c = np.arange(5)\n",
    "  \n",
    "  print(a + b)\n",
    "  print(a + c)\n",
    "  ```"
   ]
  },
  {
   "cell_type": "markdown",
   "metadata": {},
   "source": [
    "- Route 66 in the USA connects the cities Chicago, Springfield, Saint-Louis, Tulsa, Oklahoma City, Amarillo, Santa Fe, Albuquerque, Flagstaff and Los Angeles (see the following figure).\n",
    "  Explain what the variable `a` of the program below contains."
   ]
  },
  {
   "cell_type": "markdown",
   "metadata": {},
   "source": [
    "![route_66](figs/route66.png)"
   ]
  },
  {
   "cell_type": "code",
   "execution_count": null,
   "metadata": {},
   "outputs": [],
   "source": [
    "import numpy as np\n",
    "\n",
    "# The array mileposts gives the distance from Chicago to the other\n",
    "# cities on Route 66:\n",
    "mileposts = np.array([0, 198, 303, 736, 871, 1175, 1475, 1544, 1913, 2448])\n",
    "\n",
    "# Explain what a is containing. What meaning does each element\n",
    "# of the created matrix have?\n",
    "a = mileposts - mileposts[:, np.newaxis]\n",
    "print(a)"
   ]
  },
  {
   "cell_type": "markdown",
   "metadata": {},
   "source": [
    "## Array manipulation"
   ]
  },
  {
   "cell_type": "code",
   "execution_count": null,
   "metadata": {},
   "outputs": [],
   "source": [
    "import numpy as np\n",
    "\n",
    "a = np.arange(25).reshape((5, 5))\n",
    "b = np.array([1, 5, 10, 15, 20])\n",
    "# Divide each *row* of the array 'a' elementwise with the\n",
    "# array b"
   ]
  },
  {
   "cell_type": "code",
   "execution_count": null,
   "metadata": {},
   "outputs": [],
   "source": [
    "import numpy as np\n",
    "\n",
    "a = np.arange(25).reshape((5, 5))\n",
    "b = np.array([1, 5, 10, 15, 20])\n",
    "# Divide each *column* of the array 'a' elementwise with the\n",
    "# array b"
   ]
  },
  {
   "cell_type": "code",
   "execution_count": null,
   "metadata": {},
   "outputs": [],
   "source": [
    "import numpy as np\n",
    "\n",
    "a = np.arange(25).reshape((5, 5))\n",
    "# Obtain the mean of each row of the matrix and subtract that\n",
    "# mean from the respective rows"
   ]
  }
 ],
 "metadata": {
  "kernelspec": {
   "display_name": "Python 3",
   "language": "python",
   "name": "python3"
  },
  "language_info": {
   "codemirror_mode": {
    "name": "ipython",
    "version": 3
   },
   "file_extension": ".py",
   "mimetype": "text/x-python",
   "name": "python",
   "nbconvert_exporter": "python",
   "pygments_lexer": "ipython3",
   "version": "3.6.5"
  }
 },
 "nbformat": 4,
 "nbformat_minor": 2
}
