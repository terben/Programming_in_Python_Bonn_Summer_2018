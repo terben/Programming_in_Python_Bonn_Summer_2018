{
 "cells": [
  {
   "cell_type": "markdown",
   "metadata": {},
   "source": [
    "# Broadcasting of `numpy`-arrays"
   ]
  },
  {
   "cell_type": "markdown",
   "metadata": {},
   "source": [
    "## Introduction"
   ]
  },
  {
   "cell_type": "markdown",
   "metadata": {},
   "source": [
    "- *All* operations on `numpy`-arrays are by default element-wise.\n",
    "- This trivially works for arrays with the same shape"
   ]
  },
  {
   "cell_type": "code",
   "execution_count": 1,
   "metadata": {},
   "outputs": [
    {
     "name": "stdout",
     "output_type": "stream",
     "text": [
      "[0 1 2 3 4 5 6 7 8 9] [10 11 12 13 14 15 16 17 18 19]\n",
      "[10 12 14 16 18 20 22 24 26 28]\n",
      "[[ 0  1  2  3  4]\n",
      " [ 5  6  7  8  9]\n",
      " [10 11 12 13 14]\n",
      " [15 16 17 18 19]\n",
      " [20 21 22 23 24]] [[25 26 27 28 29]\n",
      " [30 31 32 33 34]\n",
      " [35 36 37 38 39]\n",
      " [40 41 42 43 44]\n",
      " [45 46 47 48 49]]\n",
      "[[   0   26   54   84  116]\n",
      " [ 150  186  224  264  306]\n",
      " [ 350  396  444  494  546]\n",
      " [ 600  656  714  774  836]\n",
      " [ 900  966 1034 1104 1176]]\n"
     ]
    },
    {
     "ename": "ValueError",
     "evalue": "operands could not be broadcast together with shapes (10,) (5,5) ",
     "output_type": "error",
     "traceback": [
      "\u001b[0;31m---------------------------------------------------------------------------\u001b[0m",
      "\u001b[0;31mValueError\u001b[0m                                Traceback (most recent call last)",
      "\u001b[0;32m<ipython-input-1-bbbe0f7175e3>\u001b[0m in \u001b[0;36m<module>\u001b[0;34m()\u001b[0m\n\u001b[1;32m     13\u001b[0m \u001b[0mprint\u001b[0m\u001b[0;34m(\u001b[0m\u001b[0mc\u001b[0m \u001b[0;34m*\u001b[0m \u001b[0md\u001b[0m\u001b[0;34m)\u001b[0m   \u001b[0;31m# elementwise multiplication\u001b[0m\u001b[0;34m\u001b[0m\u001b[0m\n\u001b[1;32m     14\u001b[0m \u001b[0;34m\u001b[0m\u001b[0m\n\u001b[0;32m---> 15\u001b[0;31m \u001b[0mprint\u001b[0m\u001b[0;34m(\u001b[0m\u001b[0ma\u001b[0m \u001b[0;34m+\u001b[0m \u001b[0md\u001b[0m\u001b[0;34m)\u001b[0m   \u001b[0;31m# Error: shapes do not match and the\u001b[0m\u001b[0;34m\u001b[0m\u001b[0m\n\u001b[0m\u001b[1;32m     16\u001b[0m                \u001b[0;31m# addition is not defined!\u001b[0m\u001b[0;34m\u001b[0m\u001b[0;34m\u001b[0m\u001b[0m\n",
      "\u001b[0;31mValueError\u001b[0m: operands could not be broadcast together with shapes (10,) (5,5) "
     ]
    }
   ],
   "source": [
    "import numpy as np\n",
    "\n",
    "a = np.arange(10)\n",
    "b = np.arange(10, 20)\n",
    "\n",
    "c = np.arange(25).reshape((5, 5))\n",
    "d = np.arange(25, 50).reshape((5,5))\n",
    "\n",
    "print(a, b)\n",
    "print(a + b)   # elementwise addition of elements\n",
    "\n",
    "print(c, d)\n",
    "print(c * d)   # elementwise multiplication\n",
    "\n",
    "print(a + d)   # Error: shapes do not match and the\n",
    "               # addition is not defined!"
   ]
  },
  {
   "cell_type": "markdown",
   "metadata": {},
   "source": [
    "- **However,** it is also possible to do `numpy`-operations on arrays of different\n",
    "shapes *if* NumPy can transform these arrays to the same shape: this conversion is called **broadcasting**.\n",
    "- You already used broadcasting in operations between arrays and scalars!"
   ]
  },
  {
   "cell_type": "code",
   "execution_count": null,
   "metadata": {},
   "outputs": [],
   "source": [
    "import numpy as np\n",
    "\n",
    "a = np.arange(5)\n",
    "\n",
    "print(a)\n",
    "print(a * 2)  # the '2' is broadcasted (stretched) to a (5,)-array\n",
    "\n",
    "b = np.arange(25).reshape((5,5))\n",
    "\n",
    "print(b)\n",
    "print(b * 2) # the '2' is broadcasted (stretched) to a (5,5)-array\n",
    "print(b + a) # the (5,)-array 'a' is broadcasted to a\n",
    "             # (5,5)-array"
   ]
  },
  {
   "cell_type": "markdown",
   "metadata": {},
   "source": [
    "## Practical Example: Bias correction of astronomical data\n",
    "\n",
    "- Optical astronomical data are a two-dimensional array of pixel values\n",
    "- Parts of the CCD is not illuminated during an exposure and hence provides *noisy* zero-level pixel values of an exposure. This part of a CCD is called *overscan region*\n",
    "- You need to estimate an overscan value per column/row (depending on where the overscan region is; see figure below) and subtract that value from the corresponding column/row of your science data.\n",
    "\n",
    "Effectively, we need to apply a lower-dimensional array (an overscan column/row) to a higher dimensional one (the science data). We somehow need to *stretch* the one-dimensional oversan values to a two-dimensional array so that an element-wise subtraction can be done.\n",
    "\n",
    "This is a typical application of `numpy`-array broadcasting"
   ]
  },
  {
   "cell_type": "markdown",
   "metadata": {},
   "source": [
    "![bias](figs/bias.png)"
   ]
  },
  {
   "cell_type": "code",
   "execution_count": 13,
   "metadata": {},
   "outputs": [
    {
     "name": "stdout",
     "output_type": "stream",
     "text": [
      "[[ 101.62434536   99.38824359   99.47182825   98.92703138]\n",
      " [ 100.86540763   97.6984613   101.74481176   99.2387931 ]\n",
      " [ 100.3190391    99.75062962  101.46210794   97.93985929]\n",
      " [  99.6775828    99.61594565  101.13376944   98.90010873]\n",
      " [  99.82757179   99.12214158  100.04221375  100.58281521]\n",
      " [  98.89938082  101.14472371  100.90159072  100.50249434]\n",
      " [ 100.90085595   99.31627214   99.87710977   99.06423057]\n",
      " [  99.73211192  100.53035547   99.30833925   99.60324647]\n",
      " [   9.80816445    9.11237104    9.25284171   11.6924546 ]\n",
      " [  10.05080775    9.36300435   10.19091548   12.10025514]]\n",
      "[  9.9294861    9.23768769   9.7218786   11.89635487]\n",
      "[[ 91.69485926  90.15055589  89.74994965  87.03067651]\n",
      " [ 90.93592153  88.46077361  92.02293317  87.34243823]\n",
      " [ 90.38955299  90.51294193  91.74022934  86.04350442]\n",
      " [ 89.74809669  90.37825795  91.41189085  87.00375386]\n",
      " [ 89.89808569  89.88445389  90.32033515  88.68646034]\n",
      " [ 88.96989472  91.90703602  91.17971213  88.60613947]\n",
      " [ 90.97136985  90.07858445  90.15523118  87.1678757 ]\n",
      " [ 89.80262582  91.29266777  89.58646065  87.7068916 ]]\n",
      "(4,) (10, 4)\n"
     ]
    }
   ],
   "source": [
    "import numpy as np\n",
    "import numpy.random as nr\n",
    "\n",
    "# make sure that 'random numbers' are reproducible in the following:\n",
    "nr.seed(1)\n",
    "# create fake data with some overscan region (horizontal overscan lines)\n",
    "data_hor = nr.normal(loc=100, scale=1.0, size=40).reshape(10,4)\n",
    "overscan_hor = nr.normal(loc=10, scale=1.0, size=8).reshape(2,4)\n",
    "data_hor[-2:,:] = overscan_hor\n",
    "\n",
    "print(data_hor)\n",
    "# perform overscan correction (horizontal case)\n",
    "ov = data_hor[-2:,:].mean(axis=0)#\n",
    "print(ov)\n",
    "print(data_hor[:-2] - ov)\n",
    "print(ov.shape, data_hor.shape)"
   ]
  },
  {
   "cell_type": "code",
   "execution_count": null,
   "metadata": {},
   "outputs": [],
   "source": [
    "import numpy as np\n",
    "import numpy.random as nr\n",
    "\n",
    "# create fake data with some overscan region (vertical overscan column)\n",
    "data_ver = nr.normal(loc=100, scale=1.0, size=40).reshape(10,4)\n",
    "overscan_ver = nr.normal(loc=10, scale=1.0, size=20).reshape(10,2)\n",
    "data_ver[:,:2] = overscan_ver\n",
    "\n",
    "print(data_ver)\n",
    "# perform overscan correction (vertical case)"
   ]
  },
  {
   "cell_type": "markdown",
   "metadata": {},
   "source": [
    "## Formal definition of Broadcasting"
   ]
  },
  {
   "cell_type": "markdown",
   "metadata": {},
   "source": [
    "- Braodcasting consists of a set of rules that permit *element-wise* operations of arrays of different shapes.\n",
    "- Element-wise operations on arrays are only valid when the arrays' shapes are either equal or *compatible*.\n",
    "- To determine if two shapes are compatible, `numpy` compares their dimensions, starting with the trailing ones and working its way backwards. If two dimensions are equal, or if one of them equals 1, the comparison continues. If one of the dimensions in this case is 1 and the other is larger than 1, the smaller array is stretched *naturally* to match the bigger one. Otherwise, you'll see a ValueError raised (saying something like \"operands could not be broadcast together with shapes ...\").\n",
    "- When one of the shapes runs out of dimensions (because it has less dimensions than the other shape), `numpy` will use 1 in the comparison process until the other shape's dimensions run out as well.\n",
    "- Once `numpy` determines that two shapes are compatible, the shape of the result is simply the maximum of the two shapes' sizes in each dimension."
   ]
  },
  {
   "cell_type": "markdown",
   "metadata": {},
   "source": [
    "**Examples:**\n",
    "![braodcasting_1](figs/broadcasting_1.png)"
   ]
  },
  {
   "cell_type": "markdown",
   "metadata": {},
   "source": [
    "**Important:**\n",
    "\n",
    "The rules above are precise and complete!\n",
    "- Note that missing dimensions in one array can only be *left-padded*!\n",
    "- If you need to *right-pad* an array to make it compatible, you need to do this explicitely with a `np.newaxis` or a reshape command\n",
    "\n",
    "![broadcase_2](figs/broadcasting_2.png)"
   ]
  },
  {
   "cell_type": "code",
   "execution_count": null,
   "metadata": {},
   "outputs": [],
   "source": [
    "import numpy as np\n",
    "\n",
    "a = np.arange(10).reshape(2, 5)\n",
    "b = np.arange(2)\n",
    "\n",
    "# print(a + b) would not work!!\n",
    "# we need to manually 'right-pad' one dimension to\n",
    "# 'b' to make it broadcast-compatible with a:\n",
    "b = b.reshape((2, 1))\n",
    "# b = b[:, np.newaxis] # equivalent to the reshape command above\n",
    "print(a, b)\n",
    "print(a + b)"
   ]
  },
  {
   "cell_type": "code",
   "execution_count": null,
   "metadata": {
    "collapsed": true
   },
   "outputs": [],
   "source": []
  }
 ],
 "metadata": {
  "kernelspec": {
   "display_name": "Python 3",
   "language": "python",
   "name": "python3"
  },
  "language_info": {
   "codemirror_mode": {
    "name": "ipython",
    "version": 3
   },
   "file_extension": ".py",
   "mimetype": "text/x-python",
   "name": "python",
   "nbconvert_exporter": "python",
   "pygments_lexer": "ipython3",
   "version": "3.6.5"
  }
 },
 "nbformat": 4,
 "nbformat_minor": 2
}
