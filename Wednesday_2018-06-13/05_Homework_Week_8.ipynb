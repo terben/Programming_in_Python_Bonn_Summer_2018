{
 "cells": [
  {
   "cell_type": "markdown",
   "metadata": {},
   "source": [
    "# Homework for Week 8 - multi-dimensional-`numpy` and broadcasting"
   ]
  },
  {
   "cell_type": "markdown",
   "metadata": {},
   "source": [
    "**Homework is due on Monday, 20/06/2018, 1pm**\n",
    "- You only learn a programming language by actively praticing and using it! I therefore **strongly** advise you to work on the homework problems.\n",
    "- Please discuss the problems with your student peers in case of problems.\n",
    "- Please send your solutions via mail to Joseph.\n",
    "  - He will correct them and give you feedback on your solutions. I also will talk about common problems in later classes.\n",
    "  - You can hand in Jupyter notebooks or Python scripts.\n",
    "  - If you hand in scripts, please use the proposed names to make live easier for Joseph!\n",
    "  - You are free to hand in group solutions - there is no limit on the number of students who want to work in a group! Please put the names of the students involved in your groups clearly within the Jupyter notebooks or as comments within scripts.\n",
    "  - Your code needs to be well and appropriately commented! "
   ]
  },
  {
   "cell_type": "markdown",
   "metadata": {},
   "source": [
    "<a id='plate_condensator'></a>\n",
    "## Electric field of a parallel-plate condensator\n",
    "You learned about the parallel-plate condensator and its electric field in your experimental and theoretical physics classes. To start, you assume that the electric field within the condensator is homegeneous within the condensator:\n",
    "<img src=\"figs/condensator_simple.png\" style=\"height: 200px;\">"
   ]
  },
  {
   "cell_type": "markdown",
   "metadata": {},
   "source": [
    "In this exercise, we want to calculate the electric field within a bounded, two-dimensional region and look at the electrical field more closely. You know from your theoretical physics classes that the electrical field $\\vec{E}(x, y)$ within a region, free of charges, can be calculated from the electric potential $\\Phi(x, y)$ via $\\vec{E}(x, y)=-\\nabla\\Phi(x, y)$. The electric potential in turn is covered by the Laplace equation\n",
    "$$\n",
    "\\Delta \\Phi(x, y)=0.\n",
    "$$\n",
    "Please have a look at [Wikipedia](https://en.wikipedia.org/wiki/Mathematical_descriptions_of_the_electromagnetic_field) if you would like to fresh up your knowledge on electric fields, Maxwells equations and the like.\n",
    "\n",
    "The setup for this exercise is as follows:\n",
    "<img src=\"figs/condensator_layout.png\" style=\"height: 300px;\">"
   ]
  },
  {
   "cell_type": "markdown",
   "metadata": {},
   "source": [
    "We are given a bounded region as shown above and two condensator plates whose electric potentials are constant at $\\Phi=\\pm 1$. The potential at the boundary is constant at zero. To justify the latter condition, the condensator plates must be far enough away from the boundaries. For our purposes, the configuration above is sufficient. Our task is to determine the potential in the interior such that it fulfills the boundary conditions and $\\Delta\\Phi(x,y)=0$ everywhere else."
   ]
  },
  {
   "cell_type": "markdown",
   "metadata": {},
   "source": [
    "### An iteration scheme to solve Laplaces equation with boundary conditions\n",
    "For our setup, we can numerically solve the equation $\\Delta\\Phi(x, y)=0$ in a region with boundary conditions as follows:\n",
    "1. We put a regular, two-dimensional grid of points on our region. Individual points are separated in $x$ and $y$ by $h_x$ and $h_y$ respectively. We will assume henceforth that $h=h_x=h_y$.\n",
    "2. $$\\Delta\\Phi(x, y) = \\frac{\\partial}{\\partial x^2}\\Phi(x, y) + \\frac{\\partial}{\\partial y^2}\\Phi(x, y).$$\n",
    "We can numerically approximate the second derivatives via:\n",
    "$$\n",
    "\\frac{\\partial}{\\partial x^2}\\Phi(x, y) = \\frac{\\Phi(x+h, y)-2\\Phi(x, y)+\\Phi(x-h,y)}{h^2} + \\cal{O}(h^2)\n",
    "$$\n",
    "and similarily\n",
    "$$\n",
    "\\frac{\\partial}{\\partial y^2}\\Phi(x, y) = \\frac{\\Phi(x, y+h)-2\\Phi(x, y)+\\Phi(x,y-h)}{h^2} + \\cal{O}(h^2)\n",
    "$$\n",
    "With $\\Delta\\Phi(x, y)=0$, we obtain neglecting higher-order terms:\n",
    "$$\n",
    "\\Phi(x, y) = \\frac 14(\\Phi(x+h, y) + \\Phi(x-h, y) + \\Phi(x, y+h) + \\Phi(x, y-h)).\n",
    "$$\n",
    "3. The formulas in (2.) allow us the construction of an iteration scheme:\n",
    "  1. Set $\\Phi_0(x, y)$ to fulfill the boundary conditions and set it equal to zero everywhere else.\n",
    "  2. Calculate $\\Phi_1(x, y) = \\frac 14(\\Phi_0(x+h, y) + \\Phi_0(x-h, y) + \\Phi_0(x, y+h) + \\Phi_0(x, y-h))$. Hereby, you need to ensure that $\\Phi_1(x, y)$ still fulfills the boundary conditions!\n",
    "  3. Repeat step (2.). i.e. calculate $\\Phi_{n+1}(x, y) = \\frac 14(\\Phi_n(x+h, y) + \\Phi_n(x-h, y) + \\Phi_n(x, y+h) + \\Phi_n(x, y-h))$ until you reach convergence. We want to define convergence via $\\max \\left|\\Phi_{n+1}(x, y) - \\Phi_{n}(x, y)\\right| < 1.0\\cdot 10^{-4}$, where the maximum is taken over all grid-points."
   ]
  },
  {
   "cell_type": "markdown",
   "metadata": {},
   "source": [
    "### Your tasks"
   ]
  },
  {
   "cell_type": "markdown",
   "metadata": {},
   "source": [
    "We want to write a program to implement the scheme above and to visualise the electric field of the parallel-plate condensator.\n",
    "\n",
    "1. Define your two-dimensional coordinate grid as shown above with 101 points in the $x$ and the $y$ dimensions.\n",
    "\n",
    "   **Note:** 101 points ensure a nice coverage of the interval $[0, 1]$ with points when using `np.linspace(0.0, 1.0, 101)`. To make this clear, consider the lower resolution case with 11 points:\n",
    "   ```\n",
    "   a = np.linspace(0.0, 1.0, 11)\n",
    "   print(a)\n",
    "   array([ 0. ,  0.1,  0.2,  0.3,  0.4,  0.5,  0.6,  0.7,  0.8,  0.9,  1. ])\n",
    "   ```\n",
    "2. I placed my condensator plates at $x_{left}=0.35$ and $x_{right}=0.65$. The extent in $y$ is $y_{low} = 0.35$ and $y_{high}=0.65$ but please feel free to experiment with other choices.\n",
    "3. Implement the iteration scheme above *without* any `for`-loops over the grid points but use `numpy`-slicing instead!\n",
    "4. Once you have estimated the potential $\\Phi(x,y)$, calculate the electric field via $\\vec{E}(x, y)=-\\nabla\\Phi(x, y)$ and visualise it. Please have a look at [this notebook](03_vector_fields_matplotlib.ipynb) to learn some basics on vector-plots with `matplotlib`."
   ]
  },
  {
   "cell_type": "code",
   "execution_count": null,
   "metadata": {},
   "outputs": [],
   "source": [
    "# your solution here"
   ]
  },
  {
   "cell_type": "markdown",
   "metadata": {},
   "source": [
    "## Magnitudes of Optical Imaging data\n",
    "\n",
    "Optical imaging data are observed in well-defined parts of the electromagnetic spectrum. Typical broad-band filters are $B$ (blue; around $450$ nm), $R$ (red; around 650 nm) and $I$ (infrared; around 800 nm). One of the more difficult tasks during processing of optical data is to calibrate the brightness (or the magnitudes) of astronomical data. It is usually easire to calibrate some bands than others.\n",
    "\n",
    "The figure below shows in the left panel two *colours* of stellar sources (a colour is just the difference of the magnitudes in two bands, e.g. $B-R$). The blue points are the data and the red points model predictions for the colours. We note that there is a difference between model and data that primarily originates from calibration errors in the data.\n",
    "\n",
    "We assume that the $R$-band has a good calibration and the errors originate from problems in the $B$ and $I$ bands. If we apply *optimal shifts* (defined below) to the $B$ and $I$ magnitudes, we obtain the right panel of the figure below.\n",
    "\n",
    "Your task is to write a program to estimate these shifts for the $B$ and $I$ band magnitudes. \n",
    "\n",
    "If you hand in a script for this exercise, please name it `calibration_group_X.py`"
   ]
  },
  {
   "cell_type": "markdown",
   "metadata": {},
   "source": [
    "![SLR](figs/SLR.png)"
   ]
  },
  {
   "cell_type": "markdown",
   "metadata": {},
   "source": [
    "### The algorithm\n",
    "We separately want to estimate necessary shifts for the $B$ and $I$ band magnitudes to match the model and the data magnitudes. The idea to do so is the following:\n",
    "\n",
    "- We have arrays $d$ and $m$ with the $B-R$-colours from the data and the model respectively.\n",
    "- We calculate the distance from *each point* in the $d$-array to *each point* in the $m$-array and we analyse all the obtained distances in a histogram. For the program data, I obtain the following histogram for the $B-R$ case:"
   ]
  },
  {
   "cell_type": "markdown",
   "metadata": {},
   "source": [
    "<img src=\"figs/bmr_histo.png\" style=\"width: 400px;\" style=\"height: 200px;\">"
   ]
  },
  {
   "cell_type": "markdown",
   "metadata": {},
   "source": [
    "### The program plan\n",
    "1. **Before you start any coding:**\n",
    "  Please be sure to understand the scientific problem and the algorithm to solve it.\n",
    "  If you are unsure, please contact Aakash or myself **well in advance** of the homework deadline!\n",
    "2. In the files [data/stars_BRI_data.asc](data/stars_BRI_data.asc) and [data/stars_BRI_model.asc](data/stars_BRI_model.asc) you find the magnitudes of stars for data and model.\n",
    "3. Read in the data into your program and reproduce as a first step the $B-R$ vs. $R-I$ plot for the uncorrected data.\n",
    "4. Create an array `bmr_distances` containg the distances from *all* $B-R$ model points to *all* $B-R$ data points.\n",
    "\n",
    "  **Hint:** This is a *one-line* broadcasting task! It is very easy if you understand the *Route 66* problem of the Review questions sheet!\n",
    "5. Analyse the `bmr_distances`.array with the `np.histogram` function to obtain the optical shift to bring data and model into accordance.\n",
    "\n",
    "  **Hints:**\n",
    "  - Read carefully the documentation for the `np.histogram`-function. What does it return?\n",
    "  - Use a histogram bin-width of 0.05. This is approximately the accuracy that we can reach with the proposed magnitude-correction method.\n",
    "  - To determine the highest bin of the histogram you can use the `np.argmax` function. Read its documentation!\n",
    "  - For checking purposes, you can plot your histogram with the `plt.hist`-function. It has exactly the same syntax and functionality as `np.histogram`!\n",
    "6. Repeast steps (4) and (5) for the $R-I$ colour\n",
    "7. Apply the obtained corrections to your data and reproduce the right panel of the plot above.\n",
    "8. Discuss your results!"
   ]
  },
  {
   "cell_type": "code",
   "execution_count": null,
   "metadata": {},
   "outputs": [],
   "source": [
    "# your solution here"
   ]
  }
 ],
 "metadata": {
  "kernelspec": {
   "display_name": "Python 3",
   "language": "python",
   "name": "python3"
  },
  "language_info": {
   "codemirror_mode": {
    "name": "ipython",
    "version": 3
   },
   "file_extension": ".py",
   "mimetype": "text/x-python",
   "name": "python",
   "nbconvert_exporter": "python",
   "pygments_lexer": "ipython3",
   "version": "3.6.5"
  }
 },
 "nbformat": 4,
 "nbformat_minor": 1
}
