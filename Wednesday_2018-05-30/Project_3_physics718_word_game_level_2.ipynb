{
 "cells": [
  {
   "cell_type": "markdown",
   "metadata": {},
   "source": [
    "# Project 3 - The physics718 Word-Game (Level 2)\n",
    "(This project is based on a project from MIT Open Course Ware [course 6-00](https://ocw.mit.edu/courses/electrical-engineering-and-computer-science/6-00-introduction-to-computer-science-and-programming-fall-2008/))"
   ]
  },
  {
   "cell_type": "markdown",
   "metadata": {},
   "source": [
    "## About the Projects\n",
    "- You will get one project approximately every other week.\n",
    "- Besides the homework-assignmentts, you need to solve the projects in order to pass the course. Your final course mark consists of the marks of four projects. We aim to hand-out six projects during the term and we do not consider the worst project marks if you hand in more than four projects. **HOWEVER: You must solve and hand in the final project (advanced science project analysis). This project will be part of your mark in any case!** \n",
    "- This project requires you to modify and to extend existing source files from your last prohect. If you are done, please collect the files `word_game_level_2.py`, `word_module_level_2.py` and `test_word_module_level_2.py` in a `tar`-file with the name `Your_Name_project_3.tgz`. Please also put your name at the beginning of the source files!\n",
    "- **In contrast to the homework exercises, each student must hand in an own solution for the projects! Of course you can and should discuss problems with each other! However, you must not use code or code-parts from your student peers in your project solutions!**\n",
    "\n",
    "**Note: Aakash and I are very happy to help you out with difficulties you might have with the project tasks! You can ask questions any time but please do so well in advance of the deadlines!**"
   ]
  },
  {
   "cell_type": "markdown",
   "metadata": {},
   "source": [
    "## The Physics718 Word-Game (Level 2): Time measurements and computer player\n",
    "**(The project is due on 20/06/2018 before the lecture at 1pm**)\n",
    "\n",
    "For this project, you will need your files from the finished project *The Physics718 Word-Game (Level 1)*.\n",
    "\n",
    "**Note:** I will make available my own project files to you on Friday, 01/06/2018. If you like, you can use my files as a starting point for this project. However, I strongly prefer that you use your own files!\n",
    "\n",
    "Copy the files `word_module.py`, `word_game.py` and `test_word_module.py` to `word_module_level_2`, `word_game_level_2` and `test_word_module_level_2.py` respectively.\n",
    "\n",
    "**Please read the complete notebook once BEFORE doing anything with the codes!**\n",
    "\n"
   ]
  },
  {
   "cell_type": "markdown",
   "metadata": {},
   "source": [
    "## Part 1: Time measurement"
   ]
  },
  {
   "cell_type": "markdown",
   "metadata": {},
   "source": [
    "Each time you loose in the Physics718 word-game to your friend because she thinks *forever*. She claims that you think as long as she does. To proove her wrong, you decide to implement a meansurement of the time each player needs to play the hands."
   ]
  },
  {
   "cell_type": "markdown",
   "metadata": {},
   "source": [
    "1. Modify your `play_hand` function in `word_module_level_2.py` so that it not only returns the score that a player earned with his hand but also the time (in seconds) that was used to play the hand.\n",
    "2. Modify `word_game_level_2.py` in such a way that it displays the total score of all hands played and the total time used for that at the end of the game. Please have a look at the next cell on how to measure the time of some code part. An example output of your code after necessary modifications could look like:\n",
    "\n",
    "   ```\n",
    "   Welcome to the physics718 word game!\n",
    "   ====================================\n",
    "\n",
    "   Loading word list from file...\n",
    "      370099 words loaded.\n",
    "\n",
    "   Now we can start!\n",
    "   How many hands do you want to play? 1\n",
    "   Current hand:  * o a e p n d c t t s \n",
    "   Enter word, or \"!!\" to finish this hand: cat\n",
    "   \"cat\" earned you 5 points\n",
    "   Total points for this hand: 5\n",
    "   .\n",
    "   .\n",
    "   .\n",
    "   Total score over 1 hands: 155\n",
    "   It took you 21.49 seconds to play your hands.\n",
    "   Game over!\n",
    "\n",
    "   ```"
   ]
  },
  {
   "cell_type": "code",
   "execution_count": null,
   "metadata": {},
   "outputs": [],
   "source": [
    "# demonstration code on how to measure time of some code part within a script\n",
    "import time\n",
    "\n",
    "start_time = time.time()\n",
    "name = input('Your name please: ')\n",
    "end_time = time.time()\n",
    "used_time = end_time - start_time\n",
    "\n",
    "print('It took you {0:.2f} seconds to input your name.'.format(used_time))"
   ]
  },
  {
   "cell_type": "markdown",
   "metadata": {},
   "source": [
    "### Bonus Tasks for Part 1:\n",
    "We will use the time measurement primarily to measure the time that a computer player needs to play a game (see below). Of course we could introduce a time-component in a game for human players as well. Possibilities include:\n",
    "\n",
    "- The score that a player obtains for a hand is the score as defined in project 2 *divided* by the time (in seconds) needed to play the hand. This is a serious penalty for players who think *forever*.\n",
    "- You could include a *chess-clock*: At the start of the game, a player obtains a total time budget to finish the game. In this case, the game stops whenever the player exceeds her budget. In that case, you should proceed as follows:\n",
    "  1. Ask the user at the start of the game for the time budget.\n",
    "  2. Display the remaining time after playing a hand.\n",
    "  3. If the time budget is exceeded while playing a hand, that hand should not be scored anymore.\n",
    "\n",
    "To be fair, you should make sure in these bonus tasks that `play_hand` only counts time for the user-input and **not** the time that the computer needs to process the input!"
   ]
  },
  {
   "cell_type": "markdown",
   "metadata": {},
   "source": [
    "## Part 2: Computer Player\n",
    "Your friend has so much work to do with physics718 and other courses that she does not have time anymore to play with you. Hence, you decide to implement support for computer players in the *physics718 word game*!"
   ]
  },
  {
   "cell_type": "markdown",
   "metadata": {},
   "source": [
    "### Part 2.1: Optimisation of data structures"
   ]
  },
  {
   "cell_type": "markdown",
   "metadata": {},
   "source": [
    "We saw in class that data structures and data organisation can have significant influence on how fast a computer can solve a task. Just remember that searching an element in a sorted list can be done **much** faster (binary-search) than in an unsorted list (each element in the list has to be visited). A computer player for our word-game will have to scan the complete word-list (more than $300\\, 000$ words) **many** times to find suitable words for the letters in its hands. Therefore, our first step is to choose a good data structure in which the word list can be scanned quickly. "
   ]
  },
  {
   "cell_type": "markdown",
   "metadata": {},
   "source": [
    "Dictionaries (a kind of database) are optimised to **very quickly** check whether it contains a certain element. This task is by far not as optimal with data-organisation in a list! Study(!) and run the following cells and you will see that checking whether certain words are contained in our word-list is *two orders of magnitude* quicker with a dictionary than with a list! "
   ]
  },
  {
   "cell_type": "code",
   "execution_count": null,
   "metadata": {},
   "outputs": [],
   "source": [
    "import sys\n",
    "# The module file 'word_module.py' is in the subdiretory\n",
    "# 'project_code' when you run this notebook within the lecture\n",
    "# structure\n",
    "sys.path += [ './project_code' ] \n",
    "\n",
    "import word_module_level_2 as wm\n",
    "\n",
    "def words_to_dict(word_list):\n",
    "    \"\"\"\n",
    "    returns a dict with the words (keys) and a '1' (value)\n",
    "    \"\"\"\n",
    "    \n",
    "    d = {}\n",
    "    for word in word_list:\n",
    "        d[word] = 1\n",
    "        \n",
    "    return d\n",
    "    \n",
    "# read the word_list into our usual list from project 2 and\n",
    "# transform it into a dictionary:\n",
    "word_list = wm.load_words(filename=\"./project_code/words_alpha.txt\")\n",
    "word_dict = words_to_dict(word_list)"
   ]
  },
  {
   "cell_type": "code",
   "execution_count": null,
   "metadata": {},
   "outputs": [],
   "source": [
    "%%timeit\n",
    "\n",
    "# we search certain words in the list representation\n",
    "# (slow)\n",
    "test_words = [ 'quake', 'test', 'alabama', 'zypres', 'zypras' ]\n",
    "\n",
    "count = 0\n",
    "for word in test_words:\n",
    "    if word in word_list:\n",
    "        count = count + 1"
   ]
  },
  {
   "cell_type": "code",
   "execution_count": null,
   "metadata": {},
   "outputs": [],
   "source": [
    "%%timeit\n",
    "# we search certain words in the dictionary representation\n",
    "# (fast; two orders of magnitude faster than with the list!)\n",
    "test_words = [ 'quake', 'test', 'alabama', 'zypres', 'zypras' ]\n",
    "\n",
    "count = 0\n",
    "for word in test_words:\n",
    "    if word in word_dict:\n",
    "        count = count + 1"
   ]
  },
  {
   "cell_type": "markdown",
   "metadata": {},
   "source": [
    "### Your tasks:\n",
    "1. When transfering our word_list list-structure to a dictionary, we want to make good use of the dictionary values and not only set them to *1* as in the example above. Write within `word_module_level_2.py` a function with the following specifications:\n",
    "   ```\n",
    "   def words_to_points(word_list):\n",
    "      \"\"\"\n",
    "      Return a dict that maps every word in word_list to its point value.\n",
    "      \n",
    "      Input: a list of lower-case strings (words)\n",
    "      Output: dictionary with the words as keys \n",
    "              and their point-values as dictionary-values\n",
    "      \"\"\"\n",
    "   ```\n",
    "2. Change *all* functions within `word_module_level_2.py` that take as an argument the `word_list`-list to now accept the `words_to_points`-dictionary instead. Optimise all functions *if possible* to make good use of the new structure.\n",
    "3. Modify the tests in `test_word_module_level_2.py` to now test the functions with their new argument and make sure that you pass all the tests!\n",
    "4. Modify `word_game_level_2.py` to work with the new data structure as well. Check that you can play word-games again when you have modified your codes from the old word_list presentation to the new dictionary data structure.\n",
    "\n",
    "**Hint:** Do steps (2.) and (3.) one after the other for each function! Do **not** first change all functions and only start with the tests at the end. \n",
    "\n",
    "**Do not continue unless you have a working version of the word-game with the tasks up to this point!**"
   ]
  },
  {
   "cell_type": "markdown",
   "metadata": {},
   "source": [
    "### Part 2.2: A first computer player\n",
    "When the word-game is played by a computer, we make the following slight changes to the rules of the game:\n",
    "1. The computer does *not* get wildcards in its letter-hands. It obtains vowels and consonants as specified in the beginng of the project 2 sheet. This significantly simplifies your tasks below!\n",
    "2. If you did bonus tasks for project 2, they do not apply for a computer player. This means that a computer player cannot change individual letters or replay a hand."
   ]
  },
  {
   "cell_type": "markdown",
   "metadata": {},
   "source": [
    "Implement a first version of the computer player as follows:\n",
    "1. Write a function (within `word_module_level_2.py`) with the following specifications:\n",
    "   ```\n",
    "   def choose_word(hand, point_dict)\n",
    "      \"\"\"\n",
    "      Returns a suitable word that can be formed with the letters in 'hand'\n",
    "      and the words in our dictionary-representation 'word_dict'\n",
    "      \n",
    "      Inputs:\n",
    "      - hand: a computer hand of letters (note: NO wildcards possible!)\n",
    "      - point_dict: dictionary with words (keys) and point-values (values)\n",
    "      \"\"\"\n",
    "   ```\n",
    "   Please decide yourself on a strategy what a *suitable* word is and document your choice within the function. Two possibilities are:\n",
    "   - You pick the word that can be formed from `hand` and has *the highest possible score*.\n",
    "   - You check which words can be formed from the `hand` and choose a random one.\n",
    "   \n",
    "   **Notes:** (1) The first strategy already produces a computer player that is impossible to beat for most of us! The best and *unbeatable* player would choose its words so that it maximises the total value that can be extracted from its hand! The solution to this problem is similar to the *find the minimum amount of coins from an arbitrary base-set to pay an amount of money*-problem that you did on the homework-sheet. In the interest of your time, you should not try this here; (2) With the optimisation to the data structures that we made up to now there is no need to optimise a lot the function `choose_word`. Just write a *straightforward and simple* implementation that is easy for you to debug!\n",
    "2. Extend the function `play_hand` to also deal with a computer player. To this end, it should get a new, optional argument `player` which can be set to `'human'` or `'computer'`. Its default should be `'human'`. Furthermore, you just should need to change the call to `input` (expecting the user word) to `choose_word` for the computer player.\n",
    "3. Check which other functions in `word_module_level_2.py` need a special treatment for a computer player and make necessary modifications!\n",
    "4. Change `word_game_level_2.py` to ask at the beginning whether a human or a computer game should be played and make necessary modification to the code.\n",
    "5. Test that you can play *human* **and** *computer* games with your current implementation. Note that the human-games still need to be played *with* wildcards!\n",
    "\n",
    "A sample computer session with my implementation looks like:\n",
    "\n",
    "    Welcome to the physics718 word game (computer player)!\n",
    "    ======================================================\n",
    "\n",
    "    Loading word list from file...\n",
    "       370099 words loaded.\n",
    "\n",
    "    Now we can start!\n",
    "    'human' or 'computer' game? computer\n",
    "    How many hands do you want to play? 1\n",
    "    Current hand:  e e e i g r n w z q \n",
    "    I am thinking ....\n",
    "    I play the word energize\n",
    "    \"energize\" earned you 900 points\n",
    "    Total points for this hand: 900\n",
    "\n",
    "    Current hand:  w q \n",
    "    \"q\" earned you 40 points\n",
    "    Total points for this hand: 940\n",
    "\n",
    "    Current hand:  w \n",
    "    \"w\" earned you 28 points\n",
    "    Total points for this hand: 968\n",
    "    You ran out of letters. Total score: 968\n",
    "\n",
    "\n",
    "    Total score over 1 hands: 968\n",
    "    It took you 9.33 seconds to play your hands.\n",
    "    Game over!\n"
   ]
  },
  {
   "cell_type": "markdown",
   "metadata": {},
   "source": [
    "### Part 3: A quicker computer player\n",
    "You see that playing a hand with 10 letters takes the computer player about 10 seconds (for my computer and my implementation). You wonder, whether you cannot optimise this. Our current strategy contains an arbitrary hand and we scan *the complete word-list* whether a word from the list can be formed from the letters in the hand. We realise that there needs to be some better way. For instance, we notice that with 5 letters in hand, we only can form words having five letters or less. Usng this and some other ideas/observations, we now want to optimise our computer player for speed.\n",
    "\n",
    "We want to write a function `choose_word_fast(hand, rearrange_dict)` (depending on your implementation, the function might have further arguments!). It should be based on the following approach:\n",
    "\n",
    "1. First, we preprocess our word list again, before the game begins. We create a dictionary `d` as in the following pseudo-code:\n",
    "   ```\n",
    "   let d = {}\n",
    "   for every word w in word_list:\n",
    "       let d[(string containing the letters of w in sorted order)] = w\n",
    "   ```\n",
    "After this preprocessing step, you have a dictionary where, for any set of letters, you can determine if\n",
    "there is some acceptable word that is a rearrangement of those letters. You should put the pre-processing code into a separate function called `word_rearrangements`, analagous to `words_to_points` (within `word_module_level_2.py`).\n",
    "I show in a cell below, how you can obtain a sorted-order of the letters from a string.\n",
    "2. Now, given a hand, here's how to use the dictionary `d` from (1.) to find a word that can be made from that hand:\n",
    "   ```\n",
    "   To find some word that can be made out of the letters in hand:\n",
    "       For each subset S of the letters of hand:\n",
    "           let w = (string containing the letters of S in sorted order)\n",
    "           if w in d: d[w] can be formed\n",
    "   ```\n",
    "   I make available to you a function `string_sub_multisets` (see below) that you can use to form the necessary subsets of the letters in a hand.\n",
    "   \n",
    "   **Note:** The sets that we talk about here are actually *sub-multisets*, not *subsets* in the mathematical sense! In a formal definition, *sets* cannot contain repeated elements, while multisets, like groups of letters within a hand, can.\n",
    "3. Write the function `choose_word_fast(hand, rearrange_dict)` as described above. As `choose_word(hand, word_points)`, it should return a word for the computer player using the strategy of your choice.\n",
    "4. Modify `play_hand` to use `choose_word_fast(hand, rearrange_dict)` instead of `choose_word(hand, word_points)`. Probably, you need to modify other code parts as well because of the new data structure `rearrange_dict`.\n",
    "5. Play some games and compare the execution times of both computer-player implementations. Charcterize the time complexity of `choose_word` and `choose_word_fast` in terms of the size of the word list and the number of letters in hand. \n",
    "\n",
    "**Remark:**\n",
    "We saw above that with `choose_word` on my computer, playing *a single* hand lasted about 9 seconds. With `choose_word_fast`, the computer plays 100 hands in below 0.2 seconds!\n",
    "\n",
    "This should show you again, how important a good representation of data is for the execution time of your programs!"
   ]
  },
  {
   "cell_type": "markdown",
   "metadata": {},
   "source": [
    "# Congratulations! Have fun playing!"
   ]
  },
  {
   "cell_type": "code",
   "execution_count": null,
   "metadata": {},
   "outputs": [],
   "source": [
    "# demo how to obtain the letters of a string in sorted (alphabetical) order\n",
    "s = \"thomas\"\n",
    "s_sorted = ''.join(sorted(s))\n",
    "print(s, s_sorted)"
   ]
  },
  {
   "cell_type": "code",
   "execution_count": null,
   "metadata": {},
   "outputs": [],
   "source": [
    "# Please study carefully the followng function. It is useful\n",
    "# in many circumstances!\n",
    "\n",
    "def string_sub_multisets(s):\n",
    "    \"\"\"\n",
    "    Creates a list of all possible 'substrings' from s 'preserving'\n",
    "    the order of the letters in 's'.\n",
    "\n",
    "    Examples:\n",
    "    s = 't'\n",
    "    string_sub_multisets(s) = [ '', 't' ]\n",
    "    s = 'to'\n",
    "    string_sub_multisets(s) = [ '', 't', 'o', 'to' ]\n",
    "    s = \"tom\"\n",
    "    string_sub_multisets(s) = [ '', 't', 'o', 'm', 'to', 'tm', 'om', 'tom' ]\n",
    "    s = \"too\"\n",
    "    string_sub_multisets(s) = [ '', 't', 'o', 'to', 'oo', 'too' ]\n",
    "\n",
    "    Notes:\n",
    "    - The elements in the output list can be in arbitrary order!\n",
    "    - This is not identical to the 'power set' of a set. In a set,\n",
    "      each element can only appear once, while some letter can\n",
    "      appear multiple times here.\n",
    "    \"\"\"\n",
    "\n",
    "    result = [ '' ]\n",
    "\n",
    "    for letter in s:\n",
    "        result.extend([x + letter for x in result])\n",
    "\n",
    "    # We use a trick with python-sets to remove entries that appear\n",
    "    # multiple times:\n",
    "    return list(set(result))\n",
    "\n",
    "s = \"thomas\"\n",
    "s_sorted = ''.join(sorted(s))\n",
    "print(string_sub_multisets(s_sorted))\n"
   ]
  }
 ],
 "metadata": {
  "kernelspec": {
   "display_name": "Python 3",
   "language": "python",
   "name": "python3"
  },
  "language_info": {
   "codemirror_mode": {
    "name": "ipython",
    "version": 3
   },
   "file_extension": ".py",
   "mimetype": "text/x-python",
   "name": "python",
   "nbconvert_exporter": "python",
   "pygments_lexer": "ipython3",
   "version": "3.6.5"
  }
 },
 "nbformat": 4,
 "nbformat_minor": 1
}
