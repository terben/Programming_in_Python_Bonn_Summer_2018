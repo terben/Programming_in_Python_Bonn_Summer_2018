{
 "cells": [
  {
   "cell_type": "markdown",
   "metadata": {},
   "source": [
    "# Scipy - scientific library for Python\n"
   ]
  },
  {
   "cell_type": "markdown",
   "metadata": {},
   "source": [
    "`scipy` is buildt on top of the `numpy` framework for multidimensional arrays, and provides a large number of higher-level scientific algorithms. Some of the topics that SciPy covers are:\n",
    "\n",
    "* Special functions ([scipy.special](http://docs.scipy.org/doc/scipy/reference/special.html))\n",
    "* Integration ([scipy.integrate](http://docs.scipy.org/doc/scipy/reference/integrate.html))\n",
    "* Optimization ([scipy.optimize](http://docs.scipy.org/doc/scipy/reference/optimize.html))\n",
    "* Interpolation ([scipy.interpolate](http://docs.scipy.org/doc/scipy/reference/interpolate.html))\n",
    "* Fourier Transforms ([scipy.fftpack](http://docs.scipy.org/doc/scipy/reference/fftpack.html))\n",
    "* Signal Processing ([scipy.signal](http://docs.scipy.org/doc/scipy/reference/signal.html))\n",
    "* Linear Algebra ([scipy.linalg](http://docs.scipy.org/doc/scipy/reference/linalg.html))\n",
    "* Sparse Eigenvalue Problems ([scipy.sparse](http://docs.scipy.org/doc/scipy/reference/sparse.html))\n",
    "* Statistics ([scipy.stats](http://docs.scipy.org/doc/scipy/reference/stats.html))\n",
    "* Multi-dimensional image processing ([scipy.ndimage](http://docs.scipy.org/doc/scipy/reference/ndimage.html))\n",
    "* File IO ([scipy.io](http://docs.scipy.org/doc/scipy/reference/io.html))\n",
    "\n",
    "Each of these submodules provides a number of functions and classes that can be used to solve problems in their respective topics.\n"
   ]
  },
  {
   "cell_type": "markdown",
   "metadata": {},
   "source": [
    "## Special functions\n",
    "Scipy implements a large amount of *special functions* (Bessel function,\n",
    "Airy function, orthogonal polynomials, ...) for numneric calculations. They can be used as functions within `numpy`."
   ]
  },
  {
   "cell_type": "code",
   "execution_count": null,
   "metadata": {},
   "outputs": [],
   "source": [
    "%matplotlib inline\n",
    "import matplotlib.pyplot as plt\n",
    "import numpy as np\n",
    "import scipy.special as ss\n",
    "\n",
    "# we plot the n\\in [1..3] Legendre polynomials.\n",
    "#\n",
    "x = np.linspace(-1.0, 1.0, 100)\n",
    "\n",
    "for n in range(1, 4):\n",
    "    y = ss.eval_legendre(n, x)\n",
    "    plt.plot(x, y, label=r\"$L_%d(x)$\" % n)\n",
    "    \n",
    "plt.legend()    "
   ]
  },
  {
   "cell_type": "markdown",
   "metadata": {
    "collapsed": true
   },
   "source": [
    "## Numerical Integration"
   ]
  },
  {
   "cell_type": "markdown",
   "metadata": {
    "collapsed": true
   },
   "source": [
    "Numerical evaluation of a function of the type\n",
    "\n",
    "$\\displaystyle \\int_a^b f(x)\\, \\text{d}x$\n",
    "\n",
    "is called *numerical integration*, or *quadature*.\n",
    "`Scipy` provides many funtions for quadrature, for example the `quad` and `dblquad` for single and double integrals, respectively."
   ]
  },
  {
   "cell_type": "markdown",
   "metadata": {},
   "source": [
    "In the follwoing I show simple examples to demonstrate the basic usage:"
   ]
  },
  {
   "cell_type": "code",
   "execution_count": null,
   "metadata": {},
   "outputs": [],
   "source": [
    "import scipy\n",
    "import scipy.integrate as si\n",
    "import numpy as np\n",
    "\n",
    "# A normlised Gauss function\n",
    "def gauss(x):\n",
    "    factor = (1.0 / np.sqrt(2.0 * np.pi))\n",
    "    expon = np.exp(-(x)**2 / 2.0)\n",
    "    \n",
    "    return factor * expon\n",
    "\n",
    "# lower and upper integration limits:\n",
    "x_lower = 0 # the lower limit of x\n",
    "x_upper = 1 # the upper limit of x\n",
    "\n",
    "result, abserr = si.quad(gauss, x_lower, x_upper)\n",
    "\n",
    "print(\"integral value = %f; absolute error = %e\" % (result, abserr))\n",
    "\n",
    "# Also infinite limits are possible:\n",
    "result, abserr = si.quad(gauss, -scipy.Inf, scipy.Inf)\n",
    "\n",
    "print(\"integral value = %f; absolute error = %e\" % (result, abserr))\n"
   ]
  },
  {
   "cell_type": "markdown",
   "metadata": {},
   "source": [
    "For simple functions we can use a lambda expression:"
   ]
  },
  {
   "cell_type": "code",
   "execution_count": null,
   "metadata": {},
   "outputs": [],
   "source": [
    "import scipy.integrate as si\n",
    "import numpy as np\n",
    "\n",
    "val, abserr = si.quad(lambda x: (np.sin(x) + np.cos(x)**2),\n",
    "                      0, np.pi / 2.)\n",
    "\n",
    "print(\"result  = %f +/- %e\" % (val, abserr))\n"
   ]
  },
  {
   "cell_type": "markdown",
   "metadata": {},
   "source": [
    "Two-dimensional integrals work similarily"
   ]
  },
  {
   "cell_type": "code",
   "execution_count": null,
   "metadata": {},
   "outputs": [],
   "source": [
    "import scipy.integrate as si\n",
    "import numpy as np\n",
    "\n",
    "def integrand(x, y):\n",
    "    return np.exp(-x**2 - y**2)\n",
    "\n",
    "x_lower = 0  \n",
    "x_upper = 10\n",
    "y_lower = 0\n",
    "y_upper = 10\n",
    "\n",
    "# note that the y-limits depend on x in general;\n",
    "# hence they need to be given as functions of x!\n",
    "val, abserr = si.dblquad(integrand, x_lower, x_upper, lambda x : y_lower, lambda x: y_upper)\n",
    "\n",
    "print(val, abserr) "
   ]
  },
  {
   "cell_type": "markdown",
   "metadata": {
    "collapsed": true
   },
   "source": [
    "## Optimization / Fitting"
   ]
  },
  {
   "cell_type": "markdown",
   "metadata": {},
   "source": [
    "Determining a parametric model $y = m(x; a_0, a_1, \\dots a_n)$, where the $a_i$ are parameters we would like to determine) to given data points\n",
    "$(x_i; y_i \\pm \\Delta y_i);\\; i\\in [1, \\dots, m]$ is called *data-fitting*. Usually the measurements $y_i$ come with some errors $\\Delta y_i$. `Scipy` offers several functions for data fitting and I will show you the simplest one: `curve_fit`. It determines the best fit parameters with the $\\chi^2$-method, i.e. it determines best fit parameters by minimizing the expression:\n",
    "\n",
    "$$\n",
    "\\chi^2 = \\sum_{i=1}^n\\frac{(y_i-m(x_i; a_0, a_1, \\dots a_n))^2}{(\\Delta y_i)^2}\n",
    "$$\n",
    "\n",
    "Please read the [curve_fit documentation](http://docs.scipy.org/doc/scipy/reference/generated/scipy.optimize.curve_fit.html#scipy.optimize.curve_fit) on details (error handling etc.)."
   ]
  },
  {
   "cell_type": "markdown",
   "metadata": {
    "collapsed": true
   },
   "source": [
    "For demonstration purposes we perform a line fit on some fake data:"
   ]
  },
  {
   "cell_type": "code",
   "execution_count": null,
   "metadata": {},
   "outputs": [],
   "source": [
    "%matplotlib inline\n",
    "import matplotlib.pyplot as plt\n",
    "import numpy as np\n",
    "import numpy.random as nr\n",
    "import scipy.optimize as so\n",
    "\n",
    "# create some fake data and plot them:\n",
    "numpoints = 10 # the number of points we want to simulate\n",
    "x = np.random.uniform(0., 100., numpoints)\n",
    "# The error on each point comes from a normal distribution\n",
    "# with sigma = 10\n",
    "y = 2. * x + 2.6 + np.random.normal(0., 10., numpoints)\n",
    "plt.errorbar(x, y, yerr=10, fmt=\".\")"
   ]
  },
  {
   "cell_type": "code",
   "execution_count": null,
   "metadata": {},
   "outputs": [],
   "source": [
    "def fit_line(x, a, b):\n",
    "    return a * x + b\n",
    "\n",
    "# now perform the fit\n",
    "# Please read carefully the documentation to see how errors\n",
    "# are handled. In Physics we typically give absolute errors,\n",
    "# not relative ones!\n",
    "popt, pcov = so.curve_fit(fit_line, x, y,\n",
    "                          sigma = np.ones(y.shape) * 10, absolute_sigma=True)\n",
    "print(popt, pcov)\n",
    "print(\"a = %f +/- %f\" % (popt[0], np.sqrt(pcov[0][0])))\n",
    "print(\"b = %f +/- %f\" % (popt[1], np.sqrt(pcov[1][1])))\n",
    "\n",
    "x_fit = np.linspace(0.0, 100, 100)\n",
    "y_fit = fit_line(x_fit, *(popt))\n",
    "plt.errorbar(x, y, yerr=10, fmt=\".\")\n",
    "plt.plot(x_fit, y_fit, 'r-')"
   ]
  },
  {
   "cell_type": "markdown",
   "metadata": {},
   "source": [
    "### Careful when the fit parameters seem fine but not the errors"
   ]
  },
  {
   "cell_type": "code",
   "execution_count": null,
   "metadata": {},
   "outputs": [],
   "source": [
    "%matplotlib inline\n",
    "import matplotlib.pyplot as plt\n",
    "import numpy as np\n",
    "import numpy.random as nr\n",
    "import scipy.optimize as so\n",
    "\n",
    "def fit_func(x, a, b):\n",
    "    return a * np.exp(x + b)\n",
    "\n",
    "numpoints = 10 # the number of points we want to simulate\n",
    "x = np.random.uniform(-2., 2., numpoints)\n",
    "y = 0.2 * np.exp(x + 5) + np.random.normal(0., 10., numpoints)\n",
    "plt.errorbar(x, y, yerr=10, fmt=\".\")\n",
    "\n",
    "popt, pcov = so.curve_fit(fit_func, x, y,\n",
    "                          sigma = np.ones(y.shape) * 10, absolute_sigma=True)\n",
    "print(popt, pcov)\n",
    "x_fit = np.linspace(-2.0, 2.0, 20)\n",
    "plt.plot(x_fit, fit_func(x_fit, *(popt)), 'r-')\n",
    "print(0.2 * np.exp(5))"
   ]
  },
  {
   "cell_type": "markdown",
   "metadata": {},
   "source": [
    "### Warning: Do not use `curve_fit` if you have errors in both variables"
   ]
  },
  {
   "cell_type": "code",
   "execution_count": null,
   "metadata": {},
   "outputs": [],
   "source": [
    "%matplotlib inline\n",
    "import matplotlib.pyplot as plt\n",
    "import numpy as np\n",
    "import numpy.random as nr\n",
    "import scipy.optimize as so\n",
    "\n",
    "def fit_line(x, a, b):\n",
    "    return a * x + b\n",
    "\n",
    "# create some fake data with errors in 'both' coordinates and plot them:\n",
    "numpoints = 50 # the number of points we want to simulate\n",
    "x = np.random.uniform(0., 100., numpoints)\n",
    "y = x\n",
    "\n",
    "# add errors in x and y\n",
    "x = x + np.random.normal(0., 10., numpoints)\n",
    "y = y + np.random.normal(0., 10., numpoints)\n",
    "\n",
    "plt.errorbar(x, y, xerr=10, yerr=10, fmt=\".\")\n",
    "\n",
    "# perform a fit as we did before (neglecting errors in x!):\n",
    "popt, pcov = so.curve_fit(fit_line, x, y,\n",
    "                          sigma = np.ones(y.shape) * 10, absolute_sigma=True)\n",
    "plt.plot(x, fit_line(x, *(popt)), 'r-')\n",
    "print(popt, np.sqrt(pcov[0,0]))\n",
    "\n",
    "# now change the roles of x and y and fit again:\n",
    "x1, y1 = y, x\n",
    "popt, pcov = so.curve_fit(fit_line, x1, y1,\n",
    "                          sigma = np.ones(y.shape) * 10, absolute_sigma=True)\n",
    "plt.plot(x1, fit_line(x1, *(popt)), 'g-')\n",
    "print(popt)\n",
    "# Note that you do not get the 'inverse' of the first fit as you might expect!"
   ]
  },
  {
   "cell_type": "markdown",
   "metadata": {},
   "source": [
    "For fits with errors in $x$ and $y$ you have to use other methods such as *Orthogonal distance regression*. I give you an example script with [chi2FitXYErr.py](code/chi2FitXYErr.py)."
   ]
  },
  {
   "cell_type": "code",
   "execution_count": null,
   "metadata": {},
   "outputs": [],
   "source": [
    "!cat ./data/dataxy.txt\n",
    "!cat ./data/dataxy_reversed.txt"
   ]
  },
  {
   "cell_type": "code",
   "execution_count": null,
   "metadata": {},
   "outputs": [],
   "source": [
    "%run ./code/chi2FitXYErr.py -i ./data/dataxy.txt"
   ]
  },
  {
   "cell_type": "code",
   "execution_count": null,
   "metadata": {},
   "outputs": [],
   "source": [
    "# The fit-result from the reversed data set also gives a 'inverse' line!\n",
    "%run ./code/chi2FitXYErr.py -i ./data/dataxy_reversed.txt"
   ]
  },
  {
   "cell_type": "markdown",
   "metadata": {},
   "source": [
    "## Ordinary Differential Equations\n",
    "`scipy` offers several functions to *numerically* solve Ordinary Differential Equations (ODEs). We look more closely at `odeint` within the `scipy.integrate`-module."
   ]
  },
  {
   "cell_type": "markdown",
   "metadata": {},
   "source": [
    "**Remark:** Most methods to numerically solve ODEs *only* do so for *systems* of ODEs of *first* order. However, you *always* can transform an ODE of higher order to a system of ODEs of first order!\n",
    "\n",
    "Before solving as system of ODEs with `odeint`, you need to rewrite it in *standard form*:\n",
    "\n",
    "$y' = f(y, t)$\n",
    "\n",
    "where\n",
    "\n",
    "$y = [y_1(t), y_2(t), ..., y_n(t)]$ \n",
    "\n",
    "and $f$ is a function to calculate the derivative of $y_i(t)$. To numerically solve an ODE, we need $f$ *and* an initial condition $y_0(t_0)$.\n",
    "\n",
    "As soon as we have $f(y, t)$ and $y_0(t_0)$, we can use `odeint` to solve the ODE:\n",
    "\n",
    "$y(t) = \\text{odeint}(f, y_0(t_0), t)$\n",
    "\n",
    "$t$ is an array of times at which we want to solve the ODE. $y(t)$ is a *multi-dimensional* array, containing in each line the solution for a certain time and in each column $i$ the solution $y_i(t)$ at that time."
   ]
  },
  {
   "cell_type": "markdown",
   "metadata": {},
   "source": [
    "### Example 1: Radioactive decay with a fixed decay-rate\n",
    "A very simple first example to instroduce the syntax of `odeint`"
   ]
  },
  {
   "cell_type": "code",
   "execution_count": null,
   "metadata": {},
   "outputs": [],
   "source": [
    "%matplotlib inline\n",
    "import numpy as np\n",
    "import scipy.integrate as si\n",
    "import matplotlib.pyplot as plt\n",
    "\n",
    "# simple decay law with fixed decay-rate\n",
    "def f(N, t):\n",
    "    dNdt = -0.2 * N\n",
    "    return dNdt\n",
    "\n",
    "N0 = 1000.0   # initial number of particles at t0 (initial condition)\n",
    "\n",
    "# The times on which we want to solve the ODE:\n",
    "t = np.linspace(0.0, 50.0, 1000)\n",
    "\n",
    "# N gives the ODE solution at the times 't': \n",
    "Nt = si.odeint(f, N0, t)\n",
    "\n",
    "plt.plot(t, Nt, 'r-')"
   ]
  },
  {
   "cell_type": "markdown",
   "metadata": {},
   "source": [
    "### Example 2: Radioactive decay with variable decay-rate\n",
    "Demonstration how to provide additional parameters to the `odeint`function"
   ]
  },
  {
   "cell_type": "code",
   "execution_count": null,
   "metadata": {},
   "outputs": [],
   "source": [
    "%matplotlib inline\n",
    "import numpy as np\n",
    "import scipy.integrate as si\n",
    "import matplotlib.pyplot as plt\n",
    "\n",
    "# decay law with variable decay-rate\n",
    "def f(N, t, alpha, alphachange):\n",
    "    dNdt = -alpha * (1. + alphachange * t) * N\n",
    "    return dNdt\n",
    "\n",
    "alpha = 0.02\n",
    "alphachange = 0.1\n",
    "N0 = 1000.0   # initial number of particles (initial condition)\n",
    "\n",
    "# The times on which we want to solve the ODE:\n",
    "t = np.linspace(0.0, 50.0, 1000)\n",
    "\n",
    "# N gives the ODE solution at the times 't'.\n",
    "# Note, how we can provide additional arguments to\n",
    "# the f-function to odeint:\n",
    "Nt = si.odeint(f, N0, t, args=(alpha,alphachange))\n",
    "\n",
    "plt.plot(t, Nt, 'r-')"
   ]
  },
  {
   "cell_type": "markdown",
   "metadata": {},
   "source": [
    "### Example 3: Damped harmonic oscillator\n",
    "Demonstration how to implement a higher-order ODE for `odeint`."
   ]
  },
  {
   "cell_type": "code",
   "execution_count": null,
   "metadata": {},
   "outputs": [],
   "source": [
    "%matplotlib inline\n",
    "import numpy as np\n",
    "import scipy.integrate as si\n",
    "import matplotlib.pyplot as plt\n",
    "\n",
    "def f(y_vec, t, k, omega0):\n",
    "    y1 = y_vec[0]\n",
    "    y2 = y_vec[1]\n",
    "\n",
    "    dy1dt = y2\n",
    "    dy2dt = -omega0**2 * y1 - 2 * k * omega0 * y2\n",
    "\n",
    "    dydt = [ dy1dt, dy2dt ]\n",
    "\n",
    "    return dydt\n",
    "\n",
    "# Initial condition (space and velocity):\n",
    "y0 = [ 1.0, 0.0 ]\n",
    "omega0 = 2.0 * np.pi\n",
    "k = 0.2 # damping term\n",
    "        \n",
    "# The times for which we want to solve the ODE:\n",
    "t = np.linspace(0.0, 3.0, 1000)\n",
    "\n",
    "# The usage of odeint is the same as in the one-dimensional case but\n",
    "# with two-element arrays instead of scalars:\n",
    "yt = si.odeint(f, y0, t, args=(k, omega0))\n",
    "\n",
    "print(yt)\n",
    "# NOTE: The output of odeint in the two-dimentsional case is also\n",
    "# a two-dimensional array!\n",
    "plt.plot(t, yt[:,0], 'r-', label=\"space\")\n",
    "plt.plot(t, yt[:,1], 'g-', label=\"velocity\")\n",
    "plt.legend()"
   ]
  },
  {
   "cell_type": "code",
   "execution_count": null,
   "metadata": {},
   "outputs": [],
   "source": []
  }
 ],
 "metadata": {
  "kernelspec": {
   "display_name": "Python 3",
   "language": "python",
   "name": "python3"
  },
  "language_info": {
   "codemirror_mode": {
    "name": "ipython",
    "version": 3
   },
   "file_extension": ".py",
   "mimetype": "text/x-python",
   "name": "python",
   "nbconvert_exporter": "python",
   "pygments_lexer": "ipython3",
   "version": "3.6.5"
  }
 },
 "nbformat": 4,
 "nbformat_minor": 1
}
