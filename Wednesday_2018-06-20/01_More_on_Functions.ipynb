{
 "cells": [
  {
   "cell_type": "markdown",
   "metadata": {},
   "source": [
    "# More on Python-Functions"
   ]
  },
  {
   "cell_type": "markdown",
   "metadata": {},
   "source": [
    "## Functions as arguments for functions\n",
    "In `Python` you can give functions as arguments to other functions. This is for instance useful if you would like to write a function which integrates numerically a mathematical function between two integration limits."
   ]
  },
  {
   "cell_type": "code",
   "execution_count": null,
   "metadata": {},
   "outputs": [],
   "source": [
    "%matplotlib inline\n",
    "import matplotlib.pyplot as plt\n",
    "import numpy as np\n",
    "\n",
    "# a simple demonstration program for functions which\n",
    "# are used as argument to other functions\n",
    "def my_plot_one_two(f, filename):\n",
    "    \"\"\"\n",
    "    plots function f between 0 1nd 1 and saves the plot\n",
    "    into 'filename'.\n",
    "    The function that is given as argument takes exactly\n",
    "    'one' argument!\n",
    "\n",
    "    The function returns None to the caller\n",
    "    \"\"\"\n",
    "\n",
    "    x = np.linspace(0.0, 1.0, 100)\n",
    "    plt.clf()\n",
    "    plt.plot(x, f(x))\n",
    "    plt.savefig(filename)\n",
    "\n",
    "    return None\n",
    "\n",
    "def sin_cos(x):\n",
    "    return np.sin(x) * np.cos(x)\n",
    "\n",
    "# Note the first argument in the following call!\n",
    "# It is the name of the function sin_cos:\n",
    "my_plot_one_two(sin_cos, 'sin_cos.png')"
   ]
  },
  {
   "cell_type": "markdown",
   "metadata": {},
   "source": [
    "## $\\lambda$-functions (Lambda functions)\n",
    "Python supports so-called $\\lambda$-functions. For our purposes, they are short functions with an arbitray number of arguments and *exactly one* expression. The result of the expression is returned to the caller."
   ]
  },
  {
   "cell_type": "code",
   "execution_count": null,
   "metadata": {},
   "outputs": [],
   "source": [
    "f = lambda x: x**2  # quadratic function\n",
    "g = lambda x, a, b: a * x + b\n",
    "\n",
    "print(f(5))\n",
    "print(g(10, 1, 2))"
   ]
  },
  {
   "cell_type": "markdown",
   "metadata": {},
   "source": [
    "$\\lambda$-functions are useful for us if we need to provide a simple function as an argument to another function."
   ]
  },
  {
   "cell_type": "code",
   "execution_count": null,
   "metadata": {},
   "outputs": [],
   "source": [
    "%matplotlib inline\n",
    "import matplotlib.pyplot as plt\n",
    "import numpy as np\n",
    "\n",
    "# The my_plot example with lambda-functions\n",
    "def my_plot_one_two(f, filename):\n",
    "    x = np.linspace(0.0, 1.0, 100)\n",
    "    plt.clf()\n",
    "    plt.plot(x, f(x))\n",
    "    plt.savefig(filename)\n",
    "\n",
    "    return None\n",
    "\n",
    "# We need a square function for the following call but\n",
    "# we do not need it anywhere else. Therefore, we can\n",
    "# use a lambda function:\n",
    "my_plot_one_two(lambda x: x**2, 'square.png')"
   ]
  },
  {
   "cell_type": "markdown",
   "metadata": {
    "collapsed": true
   },
   "source": [
    "## Reminder: multiple function arguments in lists or tuples\n",
    "We can *unpack* lists or tuples into multiple arguments"
   ]
  },
  {
   "cell_type": "code",
   "execution_count": null,
   "metadata": {},
   "outputs": [],
   "source": [
    "%matplotlib inline\n",
    "import numpy as np\n",
    "import matplotlib.pyplot as plt\n",
    "\n",
    "def line(x, a, b):\n",
    "    return a * x + b\n",
    "\n",
    "# often functions return multiple arguments (or tuples)\n",
    "# as result. These tuples can diretly been given to\n",
    "# functions as arguments\n",
    "#\n",
    "# result = fit(f, x, y) .....\n",
    "result = (2, 3)  # fictive result of a line-slope and a line intercept\n",
    "\n",
    "print(line(1, *(result))) # the same as print(line(1, 2, 3))\n",
    "\n",
    "x = np.linspace(0.0, 5.0, 20)\n",
    "plt.plot(x, line(x, *result))"
   ]
  },
  {
   "cell_type": "code",
   "execution_count": null,
   "metadata": {},
   "outputs": [],
   "source": []
  }
 ],
 "metadata": {
  "kernelspec": {
   "display_name": "Python 3",
   "language": "python",
   "name": "python3"
  },
  "language_info": {
   "codemirror_mode": {
    "name": "ipython",
    "version": 3
   },
   "file_extension": ".py",
   "mimetype": "text/x-python",
   "name": "python",
   "nbconvert_exporter": "python",
   "pygments_lexer": "ipython3",
   "version": "3.6.5"
  }
 },
 "nbformat": 4,
 "nbformat_minor": 2
}
