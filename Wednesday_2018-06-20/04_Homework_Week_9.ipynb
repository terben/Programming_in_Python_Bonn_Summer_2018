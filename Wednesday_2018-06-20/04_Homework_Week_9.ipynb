{
 "cells": [
  {
   "cell_type": "markdown",
   "metadata": {},
   "source": [
    "# Homework for Week 9 - `scipy`"
   ]
  },
  {
   "cell_type": "markdown",
   "metadata": {},
   "source": [
    "**Homework is due on Monday, 27/06/2018, 1pm**\n",
    "- You only learn a programming language by actively praticing and using it! I therefore **strongly** advise you to work on the homework problems.\n",
    "- You are required to hand in group solutions (three students per group) - Please put the names of the students involved and the group number clearly within the Jupyter notebooks or as comments within scripts.\n",
    "- You need to reach 50 % of all possible homework points at the end of the term as one condition for your credit-points.\n",
    "- Please discuss the problems with your student peers in case of problems.\n",
    "- Please send your solutions via mail to Aakash and myself. Collect all your notebooks/scripts in **a single** Unix-gzipped Unix-tarfile with the name `group_X_submission_Week_Y.tgz` (`X` being your group number and `Y` the week-number of the homework sheet) that you send us. Please **do not** send us several individual files for your homework submission but **only one** tar-file!\n",
    "  - Aakash will correct them and give you feedback on your solutions. I also will talk about common problems in later classes.\n",
    "  - You can hand in Jupyter notebooks (please only **one** with solutions for all homework tasks) or Python scripts.\n",
    "  - If you hand in scripts, please use the proposed names to make live easier for us!\n",
    "  - Your code needs to be well and appropriately commented! \n",
    "  - Please note within your script or notebook, how much time you needed for the task. We want to get a better feeling on the work-load we ask for."
   ]
  },
  {
   "cell_type": "markdown",
   "metadata": {},
   "source": [
    "## Temperature of the cosmic microwave background"
   ]
  },
  {
   "cell_type": "markdown",
   "metadata": {
    "collapsed": true
   },
   "source": [
    "The file [data/Cobe.txt](data/Cobe.txt) contains data from the [COBE satellite](http://lambda.gsfc.nasa.gov/product/cobe/). It shows the spectrum of the cosmic microwave background. The first row gives the\n",
    "frequency (actually the inverse of the wavelength in 1/cm), the second row the spectrum in MJy/sr (MJy:\n",
    "Mega-Jansky, 1 Jy= $10^{-26}$ W/Hz m2 ; sr: Steradian), so it is a measure of the spectral flux per solid\n",
    "angle. The third row shows the uncertainty on the spectrum in kJy/sr.\n",
    "Use `scipy.optimize.curve_fit` to perform a fit to the data. The function describing the data is the Planck law\n",
    "$f(x) = \\frac{A_0 x3}{exp(1.439x/T )-1}$, where $x$ is the frequency in 1/cm. $A_0$ and $T$ are the fit parameters, where $A_0$ is the amplitude and $T$ the temperature of the universe. The factor 1.439 K cm comes from $hc/k_B$ in the chosen unit frame. Determine from the fit how hot the universe is. "
   ]
  },
  {
   "cell_type": "markdown",
   "metadata": {},
   "source": [
    "- Read in the data and plot the data with their errorbars\n",
    "\n",
    "  **Hints:**\n",
    "  - Please read carefully the comments in the data-file. What is given in the different columns in *which* units!\n",
    "  - You use use the function `plt.errorbar` for this task.\n",
    "- Fit the Planck function $f(x)$ to the data and determine the temperature of the Universe.\n",
    "- Include a plot of the best-fit curve in the errorbar-plot."
   ]
  },
  {
   "cell_type": "markdown",
   "metadata": {},
   "source": [
    "If you hand in a script for this exercise, then please name it `cobe_group_X.py`"
   ]
  },
  {
   "cell_type": "code",
   "execution_count": 1,
   "metadata": {
    "collapsed": true
   },
   "outputs": [],
   "source": [
    "# your solution here"
   ]
  },
  {
   "cell_type": "markdown",
   "metadata": {},
   "source": [
    "## Felix Baumgartners drop\n",
    "\n",
    "**This homework is bases on a project from Ludovic van Waerbeke**\n",
    "<img src=\"figs/baumgartner.jpg\" style=\"height: 250px;\">\n",
    "In October 2012, Felix Baumgartner broke the world record of skydiving at that time, by jumping from an altitude of 39 km and reaching a maximum speed of 1357 km/h. In this problem you will calculate Baumgartner's trajectory by solving numerically the free fall equation, taking into account the varying air density and the varying drag coefficient. We will have to make some simplifying assumptions which will prevent us from reproducing the exact characteristics of his jump, but we will get a good idea of what happened.\n",
    "\n",
    "For this exercise we will look at a one-dimensional free fall case with a drag term that is proportional to velocity square. This is realistic for high speed situations. The equation of motion is:\n",
    "$$\n",
    "m\\ddot{z}=mg-\\frac 12 \\rho(z)C_D(z)A(t)\\dot{z}^2,\n",
    "$$\n",
    "where $z$ is Baumgartners space-coordinate with $z=0$ at the surface of the Earth. His jump starts at $z_0=39$ km.\n",
    "$m$ is the mass of the jumper, $\\rho(z)$ the air density, $C_D(z)$ \n",
    "the drag coefficient and $A(t)$ the jumper’s cross-section.\n",
    "\n",
    "Baumgartners jump has two phases:\n",
    "1. Phase 1 is the free-fall with the parachute closed. Phase 1 starts at $z_0=39$ km and ens at about $z_P\\approx 2$ km. Additional parameters of tis phase are: $g=9.8$ ms$^{-2}$ (we assume this as constant!), $m=118$ kg, $C_D(z)=0.3$ and $A(t)=0.9$ m$²$. The air density depends on the space-coordinate $z$ via $\\rho(z) = 1.22\\exp(-\\frac z{10\\text{ km}})$ kg m$^{-3}$.\n",
    "\n",
    "2. Phase 2 starts when the parachute is opened at $z_P\\approx 2$ km. The parameters of that phase of the jump are: $g=9.8$ ms$^{-2}$, $m=118$ kg, $C_D(z)=1.5$ and $\\rho(z)=1.22$ kg m$^{-3}$ (const). The crosssection $A(t)$ is now determined by the parachute and we must take into account that it takes some seconds to open it completely. We model this by:\n",
    "\n",
    "$$\n",
    "A(t)=1+50\\left(\\frac{1-\\exp(-(t-t_F)/5\\text{s})}{1-\\exp(-(t-t_F)/5\\text{s})}\\right)\\text{m}^2.\n",
    "$$"
   ]
  },
  {
   "cell_type": "markdown",
   "metadata": {},
   "source": [
    "**Your tasks:**\n",
    "1. Implement Felixs drop in a script with name `skydive_group_X.py` and create plots of the jump for $z(t)$ and $\\dot{z}(t)$. The initial conditions are $z(0)=z_0=39$ km and $\\dot{z}(0)=0$ m/s. The jump ends at $z(t_e)=0$ m.\n",
    "2. Answer within a textfile `skydive_group_X.txt` the following questions:\n",
    "  1. What is the maximal (absolute) velocity that Felix reaches with our model?\n",
    "  2. What is his speed when he reaches the surface of the Earth?\n",
    "  3. How long did the complete jump last?\n",
    "  4. Why does Felixs speed at the start of the jump raise quickly but slows down already before he opens his parachute?\n",
    "\n",
    "**Hints**: (1) You need to solve *two* differential equations. One for phase 1 ($0\\leq t\\leq t_F$) of the jump and the other one for phase 2 ($t_F<t\\leq t_e$). The solution of the equation for phase 1 at $z(t_P)$ determines the initial conditions for the ODE of phase2!; (2) For the final plots you need to *combine* the two solutions; (3) Test your pogram by checking your solution for plausibility. The jump should not last for hours and nobody survives a crash on the Earth with $v=100$ m/s etc."
   ]
  },
  {
   "cell_type": "code",
   "execution_count": null,
   "metadata": {},
   "outputs": [],
   "source": []
  }
 ],
 "metadata": {
  "kernelspec": {
   "display_name": "Python 3",
   "language": "python",
   "name": "python3"
  },
  "language_info": {
   "codemirror_mode": {
    "name": "ipython",
    "version": 3
   },
   "file_extension": ".py",
   "mimetype": "text/x-python",
   "name": "python",
   "nbconvert_exporter": "python",
   "pygments_lexer": "ipython3",
   "version": "3.6.5"
  }
 },
 "nbformat": 4,
 "nbformat_minor": 1
}
