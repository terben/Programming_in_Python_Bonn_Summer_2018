{
 "cells": [
  {
   "cell_type": "markdown",
   "metadata": {},
   "source": [
    "# Project 5 - Arctic ice maps\n",
    "This project is heavily based on an exercise from Thomas Robataille\n",
    "\n",
    "**This project is due on 13/07/2018, 1pm**"
   ]
  },
  {
   "cell_type": "markdown",
   "metadata": {},
   "source": [
    "- You will get one project approximately every other week.\n",
    "- Besides the homework-assignmentts, you need to solve the projects in order to pass the course. Your final course mark consists of the marks of four projects. We aim to hand-out six projects during the term and we do not consider the worst project marks if you hand in more than four projects. **HOWEVER: You must solve and hand in the final project (advanced science project analysis). This project will be part of your mark in any case!** \n",
    "- You **must** solve this project within a Jupyter notebook. Please name the files `error_propagation_YOUR_NAME.ipynb` before e-mailing them to Aakash and myself. \n",
    "- **In contrast to the homework exercises, each student must hand in an own solution for the projects! Of course you can and should discuss problems with each other! However, you must not use code or code-parts from your student peers in your project solutions!**\n",
    "\n",
    "**Note: Aakash and I are very happy to help you out with difficulties you might have with the project tasks! You can ask questions any time but please do so well in advance of the deadlines!**"
   ]
  },
  {
   "cell_type": "markdown",
   "metadata": {},
   "source": [
    "**Specific note for this project:** In contrast to previous projects, this exercise focusses on the *interactive* usage of Python and exploring larger data sets. You therefore **must** create a well-documented Jupyter-notebook for this task! Please comment at each step what you are doing and discuss your results! Treat this project as if iot would be a LAP-report that you would need to hand in!"
   ]
  },
  {
   "cell_type": "markdown",
   "metadata": {},
   "source": [
    "## Introduction"
   ]
  },
  {
   "cell_type": "markdown",
   "metadata": {},
   "source": [
    "The purpose of this project is to become familiar with working with image data, plotting it, and combining it in various ways for analysis. The other main goal is to become better familiar with interactive Python possibilities and to perform a well-documented scientific analysis within a Jupyter notebook.\n",
    "\n",
    "The data used in this problem set was collected by the AMSR-E instrument [Aqua](http://en.wikipedia.org/wiki/Aqua_%28satellite%29) satellite. The data consists of maps of the concentration of ice in the Arctic collected between 2006 and 2011. The data were already downloaded and transformed for you to an easy-to-use format from [here](http://www.iup.uni-bremen.de/seaice/amsr/). One of the main issues to work with scientific data within Python is to first read them from various fromats into `numpy`-arrays. We will come back to this issue in class but you do not need to worry about it here.\n",
    "\n",
    "The data you should use is in the [data/ice_data.tgz](data/ice_data.tgz) file. This is actually a (small) subset of the complete satellite data set, with only two ice maps every month. You should explore yourself the original data if you are interested at some point to work with the full data set. I am very happy to help you with that if you are interested!\n",
    "\n",
    "The data is in `numpy` format, which means that you can read it as a Numpy array using:\n",
    "\n",
    "    >>> import numpy as np\n",
    "    >>> data = np.load('ice_data/20080415.npy')\n",
    "\n",
    "which will give you a 2-d array. Just for information, this was created with:\n",
    "\n",
    "    >>> np.save('ice_data/20080415.npy', data)\n",
    "    \n",
    "where `data` was a 2-d `numpy`-array that was extracted from the original data set.    "
   ]
  },
  {
   "cell_type": "markdown",
   "metadata": {},
   "source": [
    "## Part 1 - getting familiar with the data and examining a single map "
   ]
  },
  {
   "cell_type": "markdown",
   "metadata": {},
   "source": [
    "**Start off by reading in one of the maps as shown above, and plot it with Matplotlib** (`imshow`-function). Note that to get the correct orientation, you will need to call the ``imshow`` command with the ``origin='lower'`` option, which ensures that the (0,0) pixels is on the bottom left, not the top left. You can try and use different colormaps if you like (set by the ``cmap`` option) - see [here](http://www.scipy.org/Cookbook/Matplotlib/Show_colormaps) for information on the available colormaps. You can specify a colormap to use with e.g. ``cmap=plt.cm.jet`` (i.e. ``cmap=plt.cm.`` followed by the name of the colormap). Note that you can make figures larger by specifying e.g.\n",
    "\n",
    "    >>> plt.figure(figsize=(8,8))\n",
    "\n",
    "where the size is given in inches. Try and find a way to plot a colorbar on the side, to show what color corresponds to what value. Remember that you can always look at the examples in the [Matplotlib Gallery](http://matplotlib.org/gallery.html) to find examples. You can also try and remove the tick labels (``100``, ``200``, etc.) since they are not useful - but don't worry if you can't figure out how."
   ]
  },
  {
   "cell_type": "markdown",
   "metadata": {},
   "source": [
    "**Remarks:** (1) When you explore the data-values, you will notice that they contain numbers from 0 to 100. A value of 50 means that 50% of the area occupied by the corresponding pixel are covered with ice. A value of zero means that the complete pixel is covered with water; (2) Besides the numbers, a good deal of the pixels contains the special value `nan` (not a number). These are areas covered by land. Functions like `imshow` automatically ignore these values and do not produce an error. If you intend to do numerical calculations (`numpy`) with pixels that have a `nan`-value, the result is `nan` again by default. To ignore `nan`-values for building sums etc., you would need to use functions as `np.nansum` instead of `np.sum` etc."
   ]
  },
  {
   "cell_type": "markdown",
   "metadata": {},
   "source": [
    "I show below the result I obtain for this step (one winter and one summer map).\n",
    "<img src=\"figs/ice_winter_summer.png\" style=\"height: 300px;\">"
   ]
  },
  {
   "cell_type": "markdown",
   "metadata": {},
   "source": [
    "## Part 2 - reading in and examining multiple maps "
   ]
  },
  {
   "cell_type": "markdown",
   "metadata": {},
   "source": [
    "We now want to make a plot of the ice concentration over time. Reading in a single map is easy, but since we have 137 maps, we do not want to read them all in individually by hand. **Write a loop over all the available files, and inside the loop, read in the data to a variable (e.g. ``data``), and also extract the year, month, and day as integer values (e.g. ``year``, ``month``, and ``day``) from the filename**. Then, also inside the loop, **compute a variable ``time``** which is essentially the fractional time in years (so 1st July 2012 is 2012.5; please remeber the homework with the temperatures from Munich). You can assume for simplicity that each month has 30 days - this will not affect the results later. Finally, also **compute for each file the total number of pixels that have a value above 50% ice**. After the loop, **make a plot of the number of pixels with a concentration above 50% against time**.\n",
    "\n",
    "**Describe in your notebook what you see in the plot**.\n",
    "\n",
    "We now want something a little more quantitative than just the number of pixels, so we will try and compute the area where the ice concentration is above a given threshold. However, we first need to know the area of the pixels in the image, and since we are looking at a projection of a spherical surface, each pixel will be a different area. The areas (in km^2) are contained inside the file named ``ice_data_area.npy`` (within the [data/ice_data.tgz](data/ice_data.tgz) data package). **Read in the areas and make a plot (with colorbar) to see how the pixel area is changing over the image.**\n",
    "\n",
    "Now, loop over the files again as before, but this time, for each file, **compute the total area where the concentration of ice is 99% or above. Make a new plot showing the area of >99% ice concentration against time.** Also plot the **total area** covered by ice as a function of time.\n",
    "\n",
    "**Describe what you see - how does the minimum change over time?**"
   ]
  },
  {
   "cell_type": "markdown",
   "metadata": {},
   "source": [
    "## Part 3 - visualizing changes over time; does the amount of ice decrease over time?"
   ]
  },
  {
   "cell_type": "markdown",
   "metadata": {},
   "source": [
    "**Find the date at which the area of the region where the ice concentration is above 99% is the smallest**. What is the value of the minimum area?\n",
    "\n",
    "Next, **read in the map for this minimum, and the map for the same day and month but from 2006**. **Make a side-by-side plot showing the 2006 and the 2011 data**.\n",
    "\n",
    "**Compute the difference between the two maps** so that a loss in ice over time will correspond to a negative value, and a gain in ice will correspond to a positive value. **Make a plot** of the difference, and use the ``RdBu`` colormap to highlight the changes (include a colorbar).\n",
    "\n",
    "**Hint:** To make a plot with different sub-figures, check out the `plt.subplot` function."
   ]
  },
  {
   "cell_type": "markdown",
   "metadata": {},
   "source": [
    "## Epilogue"
   ]
  },
  {
   "cell_type": "markdown",
   "metadata": {},
   "source": [
    "The data that we have here only cover five years, so we cannot reliably extract information about long term trends. However, it is worth noting that the minimum ice coverage you found here was a record minimum - never before (in recorded history) had the size of the ice shelf been so small. This is part of a long term trend due to global warming. In 2012, the record was again beaten, and most scientists believe that by ~2050, the Arctic will be completely ice-free for at least part of the summer."
   ]
  }
 ],
 "metadata": {
  "kernelspec": {
   "display_name": "Python 3",
   "language": "python",
   "name": "python3"
  },
  "language_info": {
   "codemirror_mode": {
    "name": "ipython",
    "version": 3
   },
   "file_extension": ".py",
   "mimetype": "text/x-python",
   "name": "python",
   "nbconvert_exporter": "python",
   "pygments_lexer": "ipython3",
   "version": "3.6.6"
  }
 },
 "nbformat": 4,
 "nbformat_minor": 1
}
