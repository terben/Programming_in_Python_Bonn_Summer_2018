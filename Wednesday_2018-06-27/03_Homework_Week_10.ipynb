{
 "cells": [
  {
   "cell_type": "markdown",
   "metadata": {},
   "source": [
    "# Homework for Week 10 - animations and physical problems"
   ]
  },
  {
   "cell_type": "markdown",
   "metadata": {},
   "source": [
    "**Homework is due on Wednesday, 04/07/2018, 1pm**\n",
    "- You only learn a programming language by actively praticing and using it! I therefore **strongly** advise you to work on the homework problems.\n",
    "- You are required to hand in group solutions (three students per group) - Please put the names of the students involved and the group number clearly within the Jupyter notebooks or as comments within scripts.\n",
    "- You need to reach 50 % of all possible homework points at the end of the term as one condition for your credit-points.\n",
    "- Please discuss the problems with your student peers in case of problems.\n",
    "- Please send your solutions via mail to Aakash and myself. Collect all your notebooks/scripts in **a single** Unix-gzipped Unix-tarfile with the name `group_X_submission_Week_Y.tgz` (`X` being your group number and `Y` the week-number of the homework sheet) that you send us. Please **do not** send us several individual files for your homework submission but **only one** tar-file!\n",
    "  - Aakash will correct them and give you feedback on your solutions. I also will talk about common problems in later classes.\n",
    "  - You can hand in Jupyter notebooks (please only **one** with solutions for all homework tasks) or Python scripts.\n",
    "  - If you hand in scripts, please use the proposed names to make live easier for us!\n",
    "  - Your code needs to be well and appropriately commented! \n",
    "  - Please note within your script or notebook, how much time you needed for the task. We want to get a better feeling on the work-load we ask for."
   ]
  },
  {
   "cell_type": "markdown",
   "metadata": {},
   "source": [
    "<a id='dance_of_the_moons'></a>\n",
    "## Dance of the moons: Janus and Epimetheus\n",
    "Epimetheus and Janus are moons that orbit the planet Saturn; see also [this article on Wikipedia](https://en.wikipedia.org/wiki/Epimetheus_(moon). Epimetheus's orbit is *co-orbital with that of Janus*, i.e. they orbit Saturn on nearly equal trajectories. Janus's mean orbital radius from Saturn is only 50 km less than that of Epimetheus, a distance smaller than either moon's mean radius. All four years, the two moons come close to each other as, according to Kepler's law, the inner moon moves a bit faster than the outer one. Your task is to investigate why there is no collision between the two moons.\n",
    "\n",
    "We want to simulate the three-body-problem of Saturn, Janus and Epimetheus. Our reference frame is the restframe of Saturn. The motion between bodies is then governed by the gravitational law:\n",
    "$$\n",
    "m_i\\ddot{\\vec{x_i}} = \\sum_{j,\\, j\\neq i} \\vec{F_{ij}}\n",
    "$$\n",
    "with\n",
    "$$\n",
    "\\vec{F_{ij}} = -G\\frac{m_im_j}{|\\vec{x_i}-\\vec{x_j}|^3}(\\vec{x_i}-\\vec{x_j}).\n",
    "$$\n",
    "We assume that all movements take place in a two-dimensional plane and we work in dimensionless units with $G=1$, $m_{\\text{J}}=1$, $m_{\\text{E}}=4$ and $m_{\\text{S}}=4.0\\times 10^4$.\n",
    "\n",
    "The initial conditions for the moons movements are: \n",
    "$$\n",
    "\\vec{x_{\\text{J}}}(0)=(-155, 0);\\, \\frac{\\text{d}\\vec{x_{\\text{J}}}(0)}{\\text{d}t} = (0, -16.1)\n",
    "$$\n",
    "and\n",
    "$$\n",
    "\\vec{x_{\\text{E}}}(0)=(150, 0); \\, \\frac{\\text{d}\\vec{x_{\\text{E}}}(0)}{\\text{d}t} = (0, 16.3).\n",
    "$$\n",
    "Note that $\\vec{x_S}(t)=0$ at all times!\n",
    "\n",
    "**Your tasks:**\n",
    "1. Prepare the ODE-system governing the movements of the moons for `odeint`. Note that you will obtain eight(!) ODEs of first order in total!\n",
    "2. Solve the system for $0\\leq t \\leq 2000$ and plot for both moons the distance to Saturn as a function of time. This should make clear how the moons avoid a collision on their orbits.\n",
    "3. Create an animation of the moons movements with `matplotlib`. You can consider the range $-200\\leq x, y\\leq 200$ for this task."
   ]
  },
  {
   "cell_type": "markdown",
   "metadata": {},
   "source": [
    "## Simulation of an ideal gas\n",
    "Please have a closer look at the animations of [particles in a box](01_animations_with_matplotlib.ipynb/#particles_in_box) that we studied in class. We only considered interactions of the particles with the box boundaries but not collissions between the particles. If we include this aspect, we can simulate and investigate properties of an ideal gas. Its macroscopic propterties such as temperatures are determined entirely by elastic collisions of microscopic particles; see also [this Wikipedia article](https://en.wikipedia.org/wiki/Kinetic_theory_of_gases).\n",
    "\n",
    "Your task is to modify the given code and to include collisions between the particles. If two of the particles collide, the changes of the velocities of the involved particles is governed by the following formulae (momentum conservation and elastic collision):\n",
    "$$\n",
    "\\vec{v_1}'=\\vec{v_1}-\\frac{\\langle\\vec{v_1}-\\vec{v_2},\\vec{x_1}-\\vec{x_2}\\rangle}{|\\vec{x_1}-\\vec{x_2}|^2}(\\vec{x_1}-\\vec{x_2})\n",
    "$$\n",
    "and\n",
    "$$\n",
    "\\vec{v_2}'=\\vec{v_2}-\\frac{\\langle\\vec{v_2}-\\vec{v_1},\\vec{x_2}-\\vec{x_1}\\rangle}{|\\vec{x_2}-\\vec{x_1}|^2}(\\vec{x_2}-\\vec{x_1})\n",
    "$$\n",
    "The quantities $\\vec{v_i}$ and $\\vec{v_i}'$ denote velocities of the particles before/after collission and the $\\vec{x_i}$ their position. The $\\langle\\dots,\\dots\\rangle$ is the scalar product between two vectors. Note that we we give all particles equal mass. See also this [Wikipedia article](https://en.wikipedia.org/wiki/Elastic_collision#Two-dimensional) for a more in-depth discussion of elastic collisions between particles.\n",
    "\n",
    "**Your task:** Include particle collision into the simulation and create a new animation of the particle movements within a box.\n",
    "\n",
    "**Hints:** (1) Assume that a collision between two particles occurs if their distance is smaller than $\\epsilon$ which you can choose appropriately, (2) We already solved the problem to calculate distances between all possible pairs of particles (*broadcasting* application)!"
   ]
  },
  {
   "cell_type": "code",
   "execution_count": null,
   "metadata": {},
   "outputs": [],
   "source": []
  }
 ],
 "metadata": {
  "kernelspec": {
   "display_name": "Python 3",
   "language": "python",
   "name": "python3"
  },
  "language_info": {
   "codemirror_mode": {
    "name": "ipython",
    "version": 3
   },
   "file_extension": ".py",
   "mimetype": "text/x-python",
   "name": "python",
   "nbconvert_exporter": "python",
   "pygments_lexer": "ipython3",
   "version": "3.6.5"
  }
 },
 "nbformat": 4,
 "nbformat_minor": 1
}
