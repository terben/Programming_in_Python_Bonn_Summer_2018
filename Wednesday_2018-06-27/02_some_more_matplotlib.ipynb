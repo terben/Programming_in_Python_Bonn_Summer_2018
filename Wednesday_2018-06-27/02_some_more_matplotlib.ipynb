{
 "cells": [
  {
   "cell_type": "markdown",
   "metadata": {},
   "source": [
    "# Some more Matplotlib\n",
    "Matplotlib is the Python plotting module based on `numpy`-arrays. It offers numerous possibilities from *quick-look* 2D and 3D data visualizations up to publication-quality figures in many varieties. I will only cover some fundamental concepts here.\n",
    "\n",
    "\n",
    "The best way to explore its possibilities and to widen your knowledge is to read relevant parts of the [matplotlib guide](http://matplotlib.org/users/beginner.html) and to look at examples at \n",
    "[The matplotlib Gallery](http://matplotlib.org/gallery.html#)."
   ]
  },
  {
   "cell_type": "markdown",
   "metadata": {},
   "source": [
    "## Different ways to use matplotlib"
   ]
  },
  {
   "cell_type": "markdown",
   "metadata": {},
   "source": [
    "## A sequence of plotting commands\n",
    "In our examples we gave *global* plotting commands and added figure features according to available elements of matplotlib.\n",
    "\n",
    "This is probably sufficeint for 99% of your needs!"
   ]
  },
  {
   "cell_type": "code",
   "execution_count": null,
   "metadata": {},
   "outputs": [],
   "source": [
    "%matplotlib inline\n",
    "import matplotlib.pyplot as plt\n",
    "import numpy as np\n",
    "\n",
    "x = np.linspace(0.0, 2.0 * np.pi, 100)\n",
    "y1 = np.sin(x)\n",
    "y2 = np.cos(x)\n",
    "\n",
    "# The plot is gradually built up by adding new elements to it\n",
    "# functions to plot, labels, titles etc.\n",
    "plt.plot(x, y1, label=r'$\\sin(x)$')\n",
    "plt.plot(x, y2, label=r'$\\cos(x)$')\n",
    "plt.xlim(0.0, 2.0 * np.pi)\n",
    "plt.ylim(-1.0, 1.0)\n",
    "plt.xlabel(r'$x$')\n",
    "plt.ylabel(r'$y$')\n",
    "plt.legend()\n",
    "plt.title('The sine-function')"
   ]
  },
  {
   "cell_type": "markdown",
   "metadata": {},
   "source": [
    "### Object oriented way"
   ]
  },
  {
   "cell_type": "markdown",
   "metadata": {},
   "source": [
    "It is possible to finetune and *micro-manage* figures with a more *object-oriented approach*. I mainly show this here for demonstartion purposes and for `matplotlib`-animations which we look at [in this notebook](01_animations_with_matplotlib.ipynb). You recognize the object-oriented approach if `pyplot`-commands are stored within variables."
   ]
  },
  {
   "cell_type": "code",
   "execution_count": null,
   "metadata": {},
   "outputs": [],
   "source": [
    "%matplotlib inline\n",
    "import matplotlib.pyplot as plt\n",
    "import numpy as np\n",
    "\n",
    "x = np.linspace(0, 5, 30)\n",
    "y = x**2\n",
    "\n",
    "# Here we create a figure from scratch and define two axis grids within\n",
    "# the figure:\n",
    "# If you want, you can give parameters to figure specifying absolute\n",
    "# width, height, dots-per-inch etc.\n",
    "fig = plt.figure()\n",
    "\n",
    "# The units of the add_axes commands are in fractions of\n",
    "# image width and image heights\n",
    "axes1 = fig.add_axes([0.1, 0.1, 0.8, 0.8]) # main axes\n",
    "axes2 = fig.add_axes([0.2, 0.5, 0.4, 0.3]) # inset axes\n",
    "\n",
    "# main figure\n",
    "axes1.plot(x, y, 'r')\n",
    "axes1.set_xlabel(r'$x$')\n",
    "axes1.set_ylabel(r'$y$')\n",
    "axes1.set_title('title')\n",
    "\n",
    "# insert\n",
    "axes2.plot(y, x, 'g')\n",
    "axes2.set_xlabel(r'$y$')\n",
    "axes2.set_ylabel(r'$x$')\n",
    "axes2.set_title('insert title');"
   ]
  },
  {
   "cell_type": "markdown",
   "metadata": {},
   "source": [
    "### Mapping colors to B/W plots\n",
    "I use the following application of the object-oriented approach to map the `pyplot` line colours to B/W friendly black line styles:"
   ]
  },
  {
   "cell_type": "code",
   "execution_count": null,
   "metadata": {},
   "outputs": [],
   "source": [
    "%matplotlib inline\n",
    "import matplotlib.pyplot as plt\n",
    "import numpy as np\n",
    "\n",
    "def setAxLinesBW(ax):\n",
    "    \"\"\"\n",
    "    Take each Line2D in the axes, ax, and convert the line style to be\n",
    "    suitable for black and white viewing.\n",
    "    \"\"\"\n",
    "    MARKERSIZE = 3\n",
    "\n",
    "    # Note: In matplotlib 2, the default colour map was changed\n",
    "    # and the colour cycle now contains more than 7 colours.\n",
    "    # Hence, the following colormap structure should be expanded\n",
    "    # at some point!\n",
    "    COLORMAP = {\n",
    "        'b': {'marker': None, 'dash': (None,None)},\n",
    "        'g': {'marker': None, 'dash': [5,5]},\n",
    "        'r': {'marker': None, 'dash': [5,3,1,3]},\n",
    "        'c': {'marker': None, 'dash': [1,3]},\n",
    "        'm': {'marker': None, 'dash': [5,2,5,2,5,10]},\n",
    "        'y': {'marker': None, 'dash': [5,3,1,2,1,10]},\n",
    "        'k': {'marker': 'o', 'dash': (None,None)},\n",
    "        '#1f77b4': {'marker': None, 'dash': (None,None)},\n",
    "        '#ff7f0e': {'marker': None, 'dash': [5,5]},\n",
    "        '#2ca02c': {'marker': None, 'dash': [5,3,1,3]},\n",
    "        '#d62728': {'marker': None, 'dash': [1,3]},\n",
    "        '#9467bd': {'marker': None, 'dash': [5,2,5,2,5,10]},\n",
    "        '#8c564b': {'marker': None, 'dash': [5,3,1,2,1,10]},\n",
    "        '#e377c2': {'marker': 'o', 'dash': (None,None)}\n",
    "        }\n",
    "\n",
    "\n",
    "    lines_to_adjust = ax.get_lines()\n",
    "    try:\n",
    "        lines_to_adjust += ax.get_legend().get_lines()\n",
    "    except AttributeError:\n",
    "        pass\n",
    "\n",
    "    for line in lines_to_adjust:\n",
    "        origColor = line.get_color()\n",
    "        line.set_color('black')\n",
    "        line.set_dashes(COLORMAP[origColor]['dash'])\n",
    "        line.set_marker(COLORMAP[origColor]['marker'])\n",
    "        line.set_markersize(MARKERSIZE)\n",
    "\n",
    "def setFigLinesBW(fig):\n",
    "    \"\"\"\n",
    "    Take each axes in the figure, and for each line in the axes, make the\n",
    "    line viewable in black and white.\n",
    "    \"\"\"\n",
    "    for ax in fig.get_axes():\n",
    "        setAxLinesBW(ax)\n",
    "\n",
    "# Demo for the setFigLinesBW function:\n",
    "xval = np.arange(100) * .01\n",
    "\n",
    "fig = plt.figure()\n",
    "ax1 = fig.add_subplot(111)\n",
    "ax1.plot(xval, np.cos(2 * np.pi * xval))\n",
    "ax1.plot(xval, np.cos(4 * np.pi * xval))\n",
    "ax1.plot(xval, np.cos(6 * np.pi * xval))\n",
    "plt.xlabel(r'$x$')\n",
    "plt.ylabel(r'$y$')\n",
    "\n",
    "# The following 'tight_layout' command ensures\n",
    "# that the plot including all axes labels etc.\n",
    "# is shown:\n",
    "plt.tight_layout()\n",
    "\n",
    "# uncommenting the following line will\n",
    "# produce the plot with black lines but different\n",
    "# linestyles\n",
    "#setFigLinesBW(fig)"
   ]
  },
  {
   "cell_type": "markdown",
   "metadata": {},
   "source": [
    "### MATLAB-style\n",
    "The `pylab`-module unifies the namespaces of `numpy` and `matplotlib`. It was originally intented to provide MATLAB users with the easiest possible access to numpy and matplotlib functions. It is now discouraged to use it."
   ]
  },
  {
   "cell_type": "code",
   "execution_count": null,
   "metadata": {},
   "outputs": [],
   "source": [
    "%matplotlib inline\n",
    "from pylab import *\n",
    "\n",
    "x = linspace(0, 5, 10)\n",
    "y = x**2\n",
    "\n",
    "plot(x, y, 'r')\n",
    "xlabel(r'$x$')\n",
    "ylabel(r'$y$')\n",
    "title('title')"
   ]
  },
  {
   "cell_type": "markdown",
   "metadata": {
    "collapsed": true
   },
   "source": [
    "## Plots for presentations, reports and publications\n",
    "Here are some tips and advise to create good quality plots for presentations and publications:\n",
    "\n",
    "- **General comment:** `matplotlib`-plots consist of individual points. Be careful to have enough resolution to sample functions!"
   ]
  },
  {
   "cell_type": "code",
   "execution_count": null,
   "metadata": {},
   "outputs": [],
   "source": [
    "# script to plot the function sin(30*x) / x in the interval [1, 10]\n",
    "\n",
    "import numpy as np\n",
    "import matplotlib\n",
    "import matplotlib.pyplot as plt\n",
    "\n",
    "# Is 100 points enough to sample the function\n",
    "# appropriately between 0 and 10?\n",
    "x = np.linspace(1, 10, 100)\n",
    "y = np.sin(30. * x) / x\n",
    "\n",
    "plt.plot(x, y, linewidth=2.0, label=r'$\\frac{\\sin(30x)}{x}$')\n",
    "plt.xlabel(r'$x$')\n",
    "plt.ylabel(r'$y$')\n",
    "plt.legend(loc='upper right')\n",
    "\n",
    "plt.show()"
   ]
  },
  {
   "cell_type": "markdown",
   "metadata": {},
   "source": [
    "- Default settings of plotting programs are **never** good enough for presentations and publications!"
   ]
  },
  {
   "cell_type": "code",
   "execution_count": null,
   "metadata": {},
   "outputs": [],
   "source": [
    "%matplotlib inline\n",
    "import matplotlib.pyplot as plt\n",
    "import numpy as np\n",
    "\n",
    "x = np.linspace(0.0, 2.0 * np.pi, 100)\n",
    "y = np.sin(x)\n",
    "plt.plot(x, y)\n"
   ]
  },
  {
   "cell_type": "markdown",
   "metadata": {
    "collapsed": true
   },
   "source": [
    "- Include and set explicitely:\n",
    "  - limits of axes\n",
    "  - axes labels\n",
    "  - legends (good in most cases!)\n",
    "  - plot title (depends for presentations but good in many cases; mostly not necessary for publications)"
   ]
  },
  {
   "cell_type": "code",
   "execution_count": null,
   "metadata": {},
   "outputs": [],
   "source": [
    "%matplotlib inline\n",
    "import matplotlib.pyplot as plt\n",
    "import numpy as np\n",
    "\n",
    "x = np.linspace(0.0, 2.0 * np.pi, 100)\n",
    "y = np.sin(x)\n",
    "\n",
    "plt.xlim(0.0, 2.0 * np.pi)\n",
    "plt.ylim(-1.0, 1.0)\n",
    "# note that you can use LaTeX for axes, labels,\n",
    "# titles!\n",
    "plt.xlabel(r'$x$')\n",
    "plt.ylabel(r'$y$')\n",
    "plt.plot(x, y, label=r'$\\sin(x)$')\n",
    "plt.legend()\n",
    "plt.title('The sine-function')"
   ]
  },
  {
   "cell_type": "markdown",
   "metadata": {},
   "source": [
    "- Default plot-settings have inappropriate values for line thickness and font sizes\n",
    "\n",
    "  In matplotlib, you can easily define *plot-styles* modifying these parameters for different applications!"
   ]
  },
  {
   "cell_type": "code",
   "execution_count": null,
   "metadata": {},
   "outputs": [],
   "source": [
    "%matplotlib inline\n",
    "import matplotlib.pyplot as plt\n",
    "import matplotlib\n",
    "\n",
    "# available plot-styles (predefined by matplotlib)\n",
    "print(plt.style.available)\n",
    "# If you want to define own styles, you can do that here (append the directory 'stylelib':\n",
    "print(matplotlib.get_configdir())"
   ]
  },
  {
   "cell_type": "markdown",
   "metadata": {},
   "source": [
    "A very simple style-file to improve the default settings significantly is [presentation.mplstyle](data/presentation.mplstyle). To use it, you must copy the file to the directory specified by the `matplotlib.get_configdir()`-command (appended by a `stylelib`-subdirectory). In my case, `matplotlib.get_configdir()` gives `/home/thomas/.config/matplotlib` and I need to put own stylefiles into `/home/thomas/.config/matplotlib/stylelib`.\n",
    "\n",
    "You can read much more about this topic and the parameters you can influence on the [Customizing matplotlib webpage](https://matplotlib.org/users/customizing.html)."
   ]
  },
  {
   "cell_type": "code",
   "execution_count": null,
   "metadata": {},
   "outputs": [],
   "source": [
    "%matplotlib inline\n",
    "import matplotlib.pyplot as plt\n",
    "import numpy as np\n",
    "\n",
    "# use the presentation style; it improves\n",
    "# line-thickness, label sizes and figure\n",
    "# save-parameters\n",
    "\n",
    "# The following command will fail if the\n",
    "# file presentation.mplstyle is not in your\n",
    "# matplotlib.get_configdir()/stylelib-directory!\n",
    "plt.style.use('presentation')\n",
    "\n",
    "x = np.linspace(0.0, 2.0 * np.pi, 100)\n",
    "y = np.sin(x)\n",
    "\n",
    "plt.xlim(0.0, 2.0 * np.pi)\n",
    "plt.ylim(-1.0, 1.0)\n",
    "# note that you can use LaTeX for axes, labels,\n",
    "# titles!\n",
    "plt.xlabel(r'$x$')\n",
    "plt.ylabel(r'$y$')\n",
    "plt.plot(x, y, label=r'$\\sin(x)$')\n",
    "plt.legend()\n",
    "plt.title('The sine-function')\n",
    "# I recommend the following call to make sure that\n",
    "# all labels still fit within the plot (especially\n",
    "# if you work with subplots etc.)\n",
    "plt.tight_layout()\n",
    "plt.savefig('test')"
   ]
  },
  {
   "cell_type": "markdown",
   "metadata": {},
   "source": [
    "- Keep in mind that your publication is probably printed out and read in B/W!\n",
    "  - Avoid colors that print badly in B/W, e.g. yellow. This applies also to presentations!\n",
    "  - It is annoying to read about red and blue curves if everything is gray! The best solution for publications is to stick with black lines and different line styles (my personal opinion)"
   ]
  },
  {
   "cell_type": "markdown",
   "metadata": {},
   "source": [
    "- If necessary, take care of a correct aspect ratio of your plots!"
   ]
  },
  {
   "cell_type": "code",
   "execution_count": null,
   "metadata": {},
   "outputs": [],
   "source": [
    "import matplotlib.pyplot as plt\n",
    "import numpy as np\n",
    "\n",
    "# an image and contour plot of the function\n",
    "# z = f(x, y) = x**2 + y**2\n",
    "x = np.linspace(-2.0, 2.0, 50)\n",
    "y = np.linspace(-2.0, 2.0, 50)\n",
    "\n",
    "# The meshgrid function creates 2D-arrays with all\n",
    "# possible combinations of x and y:\n",
    "X, Y = np.meshgrid(x, y)\n",
    "\n",
    "Z = X**2 + Y**2\n",
    "\n",
    "# start a new figure:\n",
    "# The x and y axes should have the same aspect ratio.\n",
    "# If they have not, circles are stretched to ellipses:\n",
    "plt.contour(X, Y, Z)\n",
    "# The following command ensures correct aspect ratios\n",
    "# between x and y\n",
    "plt.axes().set_aspect('equal')\n",
    "# If I do not set xticks manually here, matplotlib\n",
    "# sets too many and they overlap in my plot. To\n",
    "# be consistent, I do it for the y-axis likewise\n",
    "plt.xticks(np.arange(-2.0, 3.0, 1.0))\n",
    "plt.yticks(np.arange(-2.0, 3.0, 1.0))\n",
    "plt.colorbar()"
   ]
  },
  {
   "cell_type": "markdown",
   "metadata": {},
   "source": [
    "- Be consistent in the styles of your plots! Avoid creating plots with different tools if possible!"
   ]
  },
  {
   "cell_type": "markdown",
   "metadata": {},
   "source": [
    "- Graphic formats:\n",
    "  - If possible, save your files in a vector format, e.g. as a `PDF`-file. This format is best for simple line plots and other figures that can be well represented by vector graphics. One of their big advantages is that they can be arbitrarily scaled without any loss of quality. \n",
    "  - If you need to save your figures in a pixel-format such as `png` or `jpg`, then do so in a high-enough resolution - at least 300 dots per inch!"
   ]
  },
  {
   "cell_type": "markdown",
   "metadata": {},
   "source": [
    "- **For your master thesis:** Keep essential code and data to recreate plots at the end if necessary!"
   ]
  },
  {
   "cell_type": "markdown",
   "metadata": {},
   "source": [
    "## Additional Note on `matplotlib` style-sheets\n",
    "As discussed above, we can use style-sheets to alter element sizes of a plot. The second major application is to customize color-schemes and the predefined styles mainly deal with this aspect. Also note that you can compose different style-sheets."
   ]
  },
  {
   "cell_type": "code",
   "execution_count": null,
   "metadata": {},
   "outputs": [],
   "source": [
    "import matplotlib.pyplot as plt\n",
    "import numpy as np\n",
    "\n",
    "# uncomment the following line to obtain a list of available, predefined styles:\n",
    "#print(plt.style.available)\n",
    "\n",
    "# use the seaborn color-scheme\n",
    "#plt.style.use('seaborn')\n",
    "\n",
    "# The following line composes the seaborn and presentation styles\n",
    "#plt.style.use(['seaborn', 'presentation'])\n",
    "\n",
    "x = np.linspace(0.0, 2.0 * np.pi, 100)\n",
    "\n",
    "plt.plot(x, np.sin(x), label=r'$\\sin(x)$')\n",
    "plt.plot(x, np.cos(x), label=r'$\\cos(x)$')\n",
    "plt.xlabel(r'$x$')\n",
    "plt.ylabel(r'$y$')\n",
    "plt.legend()\n",
    "plt.title('Trigonometric functions')"
   ]
  }
 ],
 "metadata": {
  "kernelspec": {
   "display_name": "Python 3",
   "language": "python",
   "name": "python3"
  },
  "language_info": {
   "codemirror_mode": {
    "name": "ipython",
    "version": 3
   },
   "file_extension": ".py",
   "mimetype": "text/x-python",
   "name": "python",
   "nbconvert_exporter": "python",
   "pygments_lexer": "ipython3",
   "version": "3.6.5"
  }
 },
 "nbformat": 4,
 "nbformat_minor": 1
}
