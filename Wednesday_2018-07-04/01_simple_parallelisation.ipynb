{
 "cells": [
  {
   "cell_type": "markdown",
   "metadata": {},
   "source": [
    "# Simple parallelisation of jobs"
   ]
  },
  {
   "cell_type": "markdown",
   "metadata": {},
   "source": [
    "Python offers the module `multiprocessing` to use multi-processor (multi-core) machines for job parallelisation.\n",
    "\n",
    "We consider the following simple case:\n",
    "- We want to parallelise a `Python`-function\n",
    "- The individual runs of the function are completely independent of each other (no communication between parallel jobs is necessary)."
   ]
  },
  {
   "cell_type": "code",
   "execution_count": null,
   "metadata": {},
   "outputs": [],
   "source": [
    "%%time\n",
    "import numpy as np\n",
    "\n",
    "# simple script to test a list of numbers on the\n",
    "# prime-number property:\n",
    "def is_prime(n):\n",
    "    \"\"\"\n",
    "    tests whether an integer is a prime number\n",
    "    \n",
    "    input: the number to be tested\n",
    "    return: the number if it is a prime and -1 otherwise\n",
    "    \"\"\"\n",
    "        \n",
    "    if n != 2 and n%2 == 0:\n",
    "        return -1\n",
    "    else:\n",
    "        for i in range(3, int(np.sqrt(n) + 1)):\n",
    "            if n%i == 0:\n",
    "                return -1\n",
    "\n",
    "    return n\n",
    "\n",
    "# The map-function applies a function to each element of\n",
    "# an iterable and returns a new iterable with the results of the\n",
    "# function application.\n",
    "# Notet hat we typically use 'list-comprehension' for this task.\n",
    "# However, the 'map'-function is used for parallelisation below.\n",
    "result = list(map(is_prime, range(2, 1000000)))\n",
    "#print([i for i in result if i > 0])"
   ]
  },
  {
   "cell_type": "code",
   "execution_count": null,
   "metadata": {},
   "outputs": [],
   "source": [
    "%%time\n",
    "# The same script as above but with parallelisation\n",
    "# Testing individual prime numbers is independent of each other\n",
    "# and hence this is an ideal case for the multiprocessing module!\n",
    "import numpy as np\n",
    "import multiprocessing\n",
    "\n",
    "# simple script to test a list of numbers on the\n",
    "# prime-number property:\n",
    "def is_prime(n):\n",
    "    \"\"\"\n",
    "    tests whether an integer is a prime number\n",
    "    \n",
    "    input: the number to be testes\n",
    "    return: the number if it is a prime and -1 otherwise\n",
    "    \"\"\"\n",
    "        \n",
    "    if n != 2 and n%2 == 0:\n",
    "        return -1\n",
    "    else:\n",
    "        for i in range(3, int(np.sqrt(n) + 1)):\n",
    "            if n%i == 0:\n",
    "                return -1\n",
    "\n",
    "    return n\n",
    "\n",
    "# initialize a process pool;\n",
    "# just play with the number of processes to see\n",
    "# the time difference; note the method\n",
    "# multiprocessing.cpu_count() which gives you the\n",
    "# number of CPUs / cores of your machine:\n",
    "print(\"Your machine has {} CPUs / cores\".format(multiprocessing.cpu_count()))\n",
    "pool = multiprocessing.Pool(processes = 4)\n",
    "\n",
    "# and perform prime-number testing in parallel:\n",
    "# The pool.map command takes a function and an iterable\n",
    "# (typically a list) of arguments which are evaluated\n",
    "# in parallel!\n",
    "# Note that pool-map returns a list, not an iterable!\n",
    "result = pool.map(is_prime, list(range(2, 1000000)))\n",
    "\n",
    "#print([i for i in result if i > 0])"
   ]
  },
  {
   "cell_type": "markdown",
   "metadata": {},
   "source": [
    "**Notes:**\n",
    "\n",
    "- The resulting list of `pool.map` respects the order of elements in the input list!\n",
    "- For small data samples, the parallelised version may be *slower* than the unparallelised!\n",
    "  In that case, the overhead to initialise and to execute parallelisation is not a negigible\n",
    "  part of the complete program execution time.  \n",
    "- The `pool.map` command only works with *single argument functions*\n",
    "  by default. If you need to provide multiple arguments to a function,\n",
    "  you need to collect these arguments in a list / tuple."
   ]
  },
  {
   "cell_type": "code",
   "execution_count": null,
   "metadata": {},
   "outputs": [],
   "source": [
    "# simple (useless) program to show how to give multiple\n",
    "# arguments to a pool.map function\n",
    "\n",
    "import multiprocessing\n",
    "\n",
    "# of course you NEVER EVER would do the following\n",
    "# in a real-life scenario (numpy!):\n",
    "def line(args):\n",
    "    # The line function needs three arguments:\n",
    "    # x, a and b. To parallelise it with multiprocessing\n",
    "    # we artificially make one list-argument containing\n",
    "    # the three individual arguments\n",
    "    x, a, b = args\n",
    "    return a * x + b\n",
    "\n",
    "pool = multiprocessing.Pool(processes = 2)\n",
    "result = pool.map(line, [(1, 2, 3), (4, 5, 6)])\n",
    "\n",
    "print(result)"
   ]
  },
  {
   "cell_type": "markdown",
   "metadata": {},
   "source": [
    "**Note:**\n",
    "\n",
    "The `multiprocessing` module offers much more. Check it out if you need to deal with more complex job-parallelisation!"
   ]
  },
  {
   "cell_type": "code",
   "execution_count": null,
   "metadata": {},
   "outputs": [],
   "source": []
  }
 ],
 "metadata": {
  "kernelspec": {
   "display_name": "Python 3",
   "language": "python",
   "name": "python3"
  },
  "language_info": {
   "codemirror_mode": {
    "name": "ipython",
    "version": 3
   },
   "file_extension": ".py",
   "mimetype": "text/x-python",
   "name": "python",
   "nbconvert_exporter": "python",
   "pygments_lexer": "ipython3",
   "version": "3.6.6"
  }
 },
 "nbformat": 4,
 "nbformat_minor": 2
}
