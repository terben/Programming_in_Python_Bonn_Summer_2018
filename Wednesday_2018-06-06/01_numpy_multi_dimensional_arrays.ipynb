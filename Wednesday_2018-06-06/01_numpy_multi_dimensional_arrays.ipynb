{
 "cells": [
  {
   "cell_type": "markdown",
   "metadata": {},
   "source": [
    "## Multi-dimensional `numpy`-arrays\n",
    "We introduce multi-dimensional `numpy`-arrays in the special case with two dimensions. All of the follwing can be naturally extended to more dimensions though! `numpy`-arrays can have any number of dimensions!\n",
    "\n",
    "Two dimensional arrays occur naturally as matrices, as data tables read from files or when producing three-dimensional plots."
   ]
  },
  {
   "cell_type": "code",
   "execution_count": null,
   "metadata": {},
   "outputs": [],
   "source": [
    "import numpy as np\n",
    "\n",
    "a = np.array([[0,1,2], [3, 4, 5], [6, 7, 8]], dtype=np.float32)\n",
    "print(a)\n",
    "print(a.dtype)     # the data-type object.\n",
    "print(a.ndim)      # number of array dimensions\n",
    "print(a.shape)     # shape of an array (interesting mainly for multi-dimensional arrays)\n",
    "print(a.strides)   # The number of bytes fron one element to the next"
   ]
  },
  {
   "cell_type": "markdown",
   "metadata": {},
   "source": [
    "<img src=\"figs/numpy_data_structure.png\" style=\"width: 600px;\" style=\"height: 300px;\">"
   ]
  },
  {
   "cell_type": "markdown",
   "metadata": {},
   "source": [
    "### Slicing\n",
    "Slicing and element access follows the same rules as in one dimension. The two dimensions are treated differently and separated with a comma within the element access operator."
   ]
  },
  {
   "cell_type": "code",
   "execution_count": null,
   "metadata": {},
   "outputs": [],
   "source": [
    "import numpy as np\n",
    "\n",
    "a = np.arange(32).reshape((4,8)) # reshape usually creates a view (there are a\n",
    "                                 # few exceptions) on the original array\n",
    "                                 # with a modified shape\n",
    "print(a)\n",
    "print(a[1,2])                    # access element of second row, third column\n",
    "                                 # first index = row, second index = column\n",
    "print(a[1:3,2])                  # access elements in the second and third row and\n",
    "                                 # the third column\n",
    "print(a[:,2])                    # access elements of third column    \n",
    "print(a[2,:])                    # access elements of third row\n",
    "print(a[1:-1,3:-1])              # access 2D-subarray\n",
    "a[1,:] = 100                    # slicing on the left-side of an assignment\n",
    "print(a)"
   ]
  },
  {
   "cell_type": "markdown",
   "metadata": {},
   "source": [
    "### Remark on manual multi-dimensional array-creation\n",
    "If you need to manually create multi-dimensional arrays, you often first create a one-dimensional array and reshape it. Some methods directly accept array-shapes as arguments. The creation of two-dimensional grids (e.g. for plotting purposes) will be treated separately."
   ]
  },
  {
   "cell_type": "code",
   "execution_count": null,
   "metadata": {},
   "outputs": [],
   "source": [
    "import numpy.random as nr\n",
    "\n",
    "# create a one-dimensional array with 10 random number\n",
    "a = nr.random(10)\n",
    "print(a)\n",
    "\n",
    "# create a 5x6-matrix of random numbers\n",
    "b = nr.random((5, 6))\n",
    "#b = nr.random(30).reshape((5, 6))\n",
    "print(b)\n"
   ]
  },
  {
   "cell_type": "markdown",
   "metadata": {},
   "source": [
    "### Fancy indexing and masking\n",
    "\n",
    "Fancy indexing and masking also work in the multidimensional case. Do not get frustrated if you have difficulties with indexing and masking expressions at the beginning. I only give a few examples here to introduce the topic."
   ]
  },
  {
   "cell_type": "code",
   "execution_count": null,
   "metadata": {},
   "outputs": [],
   "source": [
    "import numpy as np\n",
    "\n",
    "a = np.arange(32).reshape((4,8))\n",
    "print(a)\n",
    "\n",
    "# Sometimes we need to access certain elemnets within a matrix.\n",
    "# You need to provide the row-values and the column-values \n",
    "# in separate arrays!\n",
    "r = [1, 2, 3]\n",
    "c = [4, 2, 6]\n",
    "# The following acceses elements a[1, 4], a[2, 2] and a[3, 6]\n",
    "print(a[r, c])\n",
    "\n",
    "# We sometimes need to extract specific rows/columns from a matrix, e.g.\n",
    "# to plot two columns against each other:\n",
    "b = a[:, [1, 5]] # b consists of the second and sixth column of a\n",
    "print(b)\n",
    "\n",
    "# Note that slicing and fancy indexing constructs also can be used\n",
    "# on the left side of an assignment:\n",
    "c = a.copy()\n",
    "c[:, [1, 5]] = 100\n",
    "print(c)\n",
    "\n",
    "# array masking works similar to the one-dimensional case\n",
    "mask = c > 20\n",
    "c[mask] = 999\n",
    "print(c)"
   ]
  },
  {
   "cell_type": "markdown",
   "metadata": {},
   "source": [
    "### Array operations\n",
    "\n",
    "The application of functions and operations between arrays happen *element-by-element*. By default, there is no notion of matrices or vectors!"
   ]
  },
  {
   "cell_type": "code",
   "execution_count": null,
   "metadata": {},
   "outputs": [],
   "source": [
    "import numpy as np\n",
    "\n",
    "a = np.arange(4).reshape((2,2))\n",
    "b = np.arange(5, 9).reshape((2,2))\n",
    "\n",
    "print(a)\n",
    "print(b)\n",
    "print(a + b)\n",
    "print(a * b)\n",
    "print(np.sin(a))\n",
    "print(a.dot(b))  # this is a matrix multiplication"
   ]
  },
  {
   "cell_type": "markdown",
   "metadata": {},
   "source": [
    "Interesting are dimensionality reduction functions:"
   ]
  },
  {
   "cell_type": "code",
   "execution_count": null,
   "metadata": {},
   "outputs": [],
   "source": [
    "import numpy as np\n",
    "\n",
    "a = np.arange(6).reshape((3,2))\n",
    "\n",
    "print(a)\n",
    "print(np.sum(a))          # sum over all elements of the array\n",
    "print(np.sum(a, axis=0))  # sum along the 'first axis' (rows)\n",
    "print(np.sum(a, axis=1))  # sum along the 'second axis' (columns)"
   ]
  },
  {
   "cell_type": "markdown",
   "metadata": {},
   "source": [
    "### Reading simple data-tables into numpy-array\n",
    "Very simple data tables in textfiles (numbers layout in columns) can be read with the `np.loadtxt` function into numpy-arrays"
   ]
  },
  {
   "cell_type": "code",
   "execution_count": null,
   "metadata": {},
   "outputs": [],
   "source": [
    "import numpy as np\n",
    "\n",
    "a = np.loadtxt(\"data/slicing.txt\")\n",
    "\n",
    "print(a)"
   ]
  },
  {
   "cell_type": "markdown",
   "metadata": {},
   "source": [
    "Note that `np.loadtxt` creates a two-dimensional array. To plot columns of a file, the columns must be explicitely extracted!"
   ]
  },
  {
   "cell_type": "code",
   "execution_count": null,
   "metadata": {},
   "outputs": [],
   "source": [
    "%matplotlib inline\n",
    "# plot columns of a file:\n",
    "import numpy as np\n",
    "import matplotlib.pyplot as plt\n",
    "\n",
    "a = np.loadtxt(\"data/slicing.txt\")\n",
    "\n",
    "# plot fourth column (y) against first column (x).\n",
    "# We must explicitely extract the columns from the 2d-array\n",
    "# a:\n",
    "x = a[:,0]\n",
    "y = a[:,3]\n",
    "\n",
    "plt.plot(x, y, 'o')"
   ]
  },
  {
   "cell_type": "markdown",
   "metadata": {},
   "source": [
    "### Exercises"
   ]
  },
  {
   "cell_type": "markdown",
   "metadata": {},
   "source": [
    "- Load the data from [data/slicing.txt](data/slicing.txt) into a `numpy`-array and obtain sub-arrays indicated by different colors with one `numpy` slice-command for each sub-array.\n",
    "\n",
    "<img src=\"figs/slicing.png\" style=\"width: 400px;\" style=\"height: 400px;\">"
   ]
  },
  {
   "cell_type": "code",
   "execution_count": null,
   "metadata": {},
   "outputs": [],
   "source": [
    "# your solution here"
   ]
  }
 ],
 "metadata": {
  "kernelspec": {
   "display_name": "Python 3",
   "language": "python",
   "name": "python3"
  },
  "language_info": {
   "codemirror_mode": {
    "name": "ipython",
    "version": 3
   },
   "file_extension": ".py",
   "mimetype": "text/x-python",
   "name": "python",
   "nbconvert_exporter": "python",
   "pygments_lexer": "ipython3",
   "version": "3.6.5"
  }
 },
 "nbformat": 4,
 "nbformat_minor": 1
}
