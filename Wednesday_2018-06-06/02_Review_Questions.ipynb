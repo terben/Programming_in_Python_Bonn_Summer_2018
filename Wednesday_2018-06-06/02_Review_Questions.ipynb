{
 "cells": [
  {
   "cell_type": "markdown",
   "metadata": {},
   "source": [
    "# Wednesday, 06/06/2018: Review questions\n",
    "Here some review questions and (simple) exercises for the material that we covered in class. They should help you to identify topics that you should further reivew with the literature or the Internet.\n",
    "\n",
    "Please feel free to e-mail Aakash or myself for any questions you might have!"
   ]
  },
  {
   "cell_type": "markdown",
   "metadata": {},
   "source": [
    "**Please try to answer the following questions before executing any code. Do this only to verify your answers and use appropriate help-utilities if you are uncertain! For each problem you should be able to explain WHY you obtain a certain result!**"
   ]
  },
  {
   "cell_type": "markdown",
   "metadata": {},
   "source": [
    "- What is the output of the follwing code:\n",
    "  ```\n",
    "  import numpy as np\n",
    "  \n",
    "  a = np.ones(30).reshape((6, 5))\n",
    "  \n",
    "  print(a * a)\n",
    "  print(a.dot(a.T))  # a.T transposes 'a'\n",
    "  print(a.sum())\n",
    "  print(a.sum(axis=0))\n",
    "  print(a.mean(axis=1))\n",
    "  ```"
   ]
  },
  {
   "cell_type": "markdown",
   "metadata": {},
   "source": [
    "- What is the result of the following code:\n",
    "  ```\n",
    "  import numpy as np\n",
    "  \n",
    "  a = np.ones(30).reshape((6, 5))\n",
    "  b = np.arange(30).reshape((6, 5))\n",
    "  \n",
    "  a[b <= 4] = 100\n",
    "  print(a)\n",
    "  ```"
   ]
  },
  {
   "cell_type": "markdown",
   "metadata": {},
   "source": [
    "- What is the result of the following code:\n",
    "  ```\n",
    "  import numpy as np\n",
    "  \n",
    "  a = np.zeros(36).reshape((6, 6))\n",
    "  a[:, [1, 2]] = 1\n",
    "  \n",
    "  print(a)\n",
    "  ```"
   ]
  },
  {
   "cell_type": "markdown",
   "metadata": {},
   "source": [
    "- What is the output of the following code:\n",
    "  ```\n",
    "  import numpy as np\n",
    "  \n",
    "  a = np.zeros(36).reshape((6, 6))\n",
    "  a[:,::3] = 1\n",
    "  a[::3,:] = 1\n",
    "  \n",
    "  print(a)\n",
    "  ```"
   ]
  },
  {
   "cell_type": "markdown",
   "metadata": {},
   "source": [
    "- What is the output of the following code:\n",
    "  ```\n",
    "  import numpy as np\n",
    "  \n",
    "  a = np.zeros((2, 5))\n",
    "  a[1,:] = 1\n",
    "  \n",
    "  mask = a.sum(axis=1) > 1\n",
    "  a[mask,:] = 100\n",
    "  \n",
    "  print(a)\n",
    "  ```"
   ]
  },
  {
   "cell_type": "markdown",
   "metadata": {},
   "source": [
    "- What is the result of the following code:\n",
    "  ```\n",
    "  import numpy as np\n",
    "  \n",
    "  a = np.arange(25)\n",
    "  b = a.reshape((5, 5))\n",
    "  \n",
    "  a[24] = 100\n",
    "  b[0, 0] = 100\n",
    "  b[1, 1] = 100\n",
    "  \n",
    "  print(b)\n",
    "  print(a)\n",
    "  ```"
   ]
  },
  {
   "cell_type": "markdown",
   "metadata": {},
   "source": [
    "### Creation of multidimensional numpy-arrays"
   ]
  },
  {
   "cell_type": "markdown",
   "metadata": {},
   "source": [
    "- Create a 2d-array of size $10\\times 10$ with 1 on the border and zero inside.\n",
    "- Create a $5\\times 5$ matrix with the values $1, 2, 3, 4$ below the main diagonal and zero everywhere else.\n",
    "- Create a $8\\times 8$ checkerboard matrix with zeros and ones.\n",
    "- Read in the [data/read_data.txt](data/read_data.txt) into a `numpy`-array with the `numpy.loadtxt` function and plot the two columns against each other"
   ]
  },
  {
   "cell_type": "markdown",
   "metadata": {},
   "source": [
    "### `numpy`-array manipulation"
   ]
  },
  {
   "cell_type": "markdown",
   "metadata": {},
   "source": [
    "- Construct a random $10\\times 2$ matrix representing cartesian coordinates. Convert them to polar coordinates.\n",
    "\n",
    "   **Hint:** if $x$ and $y$ are cartesian coordinates, the polar cousins $r$ and $\\theta$ are given by: $r=\\sqrt{x^2+y^2}$, $\\theta = \\text{atan2}(y, x)$. The $\\text{atan2}$ function can be accessed via `numpy.arctan2`.\n",
    "   \n",
    "- Create a random $5\\times 5$ matrix and subtract the mean of each row from the corresponding row.\n",
    "\n",
    "- Give a command to swap two lines (or columns) of a two-dimensional `numpy`-array?"
   ]
  },
  {
   "cell_type": "markdown",
   "metadata": {},
   "source": [
    "### Running means of arrays\n",
    "\n",
    "Explain what the following code is doing. If you cannot find out directly, just experiment with it using different (small) input arrays and different arguments *n* to the `what_do_i_do`-function:\n",
    "\n",
    "  ```\n",
    "  import numpy as np\n",
    "  \n",
    "  def what_do_i_do(a, n):\n",
    "    ret = np.cumsum(a, dtype=np.float64)\n",
    "    ret[n:] = ret[n:] - ret[:-n]\n",
    "    return ret[n - 1:] / n\n",
    "\n",
    "  Z = np.arange(10)\n",
    "  print(what_do_i_do(Z, 4))\n",
    "  ```\n",
    "  \n",
    "  **Hint:** It is a *very useful* function that is often used in science applications!"
   ]
  },
  {
   "cell_type": "code",
   "execution_count": null,
   "metadata": {
    "collapsed": true
   },
   "outputs": [],
   "source": []
  }
 ],
 "metadata": {
  "kernelspec": {
   "display_name": "Python 3",
   "language": "python",
   "name": "python3"
  },
  "language_info": {
   "codemirror_mode": {
    "name": "ipython",
    "version": 3
   },
   "file_extension": ".py",
   "mimetype": "text/x-python",
   "name": "python",
   "nbconvert_exporter": "python",
   "pygments_lexer": "ipython3",
   "version": "3.6.5"
  }
 },
 "nbformat": 4,
 "nbformat_minor": 2
}
