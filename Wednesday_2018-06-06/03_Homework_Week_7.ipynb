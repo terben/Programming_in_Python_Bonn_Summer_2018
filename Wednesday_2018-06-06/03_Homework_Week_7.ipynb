{
 "cells": [
  {
   "cell_type": "markdown",
   "metadata": {},
   "source": [
    "# Homework for Week 7 - multi-dimensional-`numpy`"
   ]
  },
  {
   "cell_type": "markdown",
   "metadata": {},
   "source": [
    "**Homework is due on Monday, 13/06/2018, 1pm**\n",
    "- You only learn a programming language by actively praticing and using it! I therefore **strongly** advise you to work on the homework problems.\n",
    "- Please discuss the problems with your student peers in case of problems.\n",
    "- Please send your solutions via mail to Joseph.\n",
    "  - He will correct them and give you feedback on your solutions. I also will talk about common problems in later classes.\n",
    "  - You can hand in Jupyter notebooks or Python scripts.\n",
    "  - If you hand in scripts, please use the proposed names to make live easier for Joseph!\n",
    "  - You are free to hand in group solutions - there is no limit on the number of students who want to work in a group! Please put the names of the students involved in your groups clearly within the Jupyter notebooks or as comments within scripts.\n",
    "  - Your code needs to be well and appropriately commented! "
   ]
  },
  {
   "cell_type": "markdown",
   "metadata": {},
   "source": [
    "## Munich Temperatures\n",
    "(This exercise is partly taken from a Python-class of Thomas Robitaille) "
   ]
  },
  {
   "cell_type": "markdown",
   "metadata": {},
   "source": [
    "The [data/munich_temperatures_average_with_bad_data.txt](data/munich_temperatures_average_with_bad_data.txt) data file gives the temperature in Munich every day for several years:"
   ]
  },
  {
   "cell_type": "code",
   "execution_count": null,
   "metadata": {},
   "outputs": [],
   "source": [
    "!head data/munich_temperatures_average_with_bad_data.txt"
   ]
  },
  {
   "cell_type": "markdown",
   "metadata": {},
   "source": [
    "1. Read in the file using np.loadtxt. The data contains bad values, which you can identify by looking at the minimum and maximum values of the array. Use masking to get rid of the bad temperature values.\n",
    "2. plot the temperature against the year\n",
    "3. plot the temperatures against the fraction of the year (all years on top of each other). Note that you can use the % (modulo) operator to find the fractional part of the dates; see also the following cell)\n",
    "4. Calculate the following temperatures:\n",
    "  1. The mean temperature over all years and all months\n",
    "  2. The mean temperature in the months January until March\n",
    "  \n",
    "    **Note**: You can assume that January to March is *exactly* a quarter of a year and\n",
    "    you can neglect details such as leap years!\n",
    "  3. The minimum, maximum and average temperature for each year between 1995 and 2012 (the year 2013 has no complete\n",
    "    coverage). You can use a `for`-loop over the years for this part.\n",
    "    \n",
    "If you hand in a script for this exercise, please name it `temperatures_group_X.py`.    "
   ]
  },
  {
   "cell_type": "code",
   "execution_count": null,
   "metadata": {},
   "outputs": [],
   "source": [
    "# This cell reminds you on the '%'-operator to isolate the fractional\n",
    "# part of float numbers.\n",
    "# This should be very useful for task 3 above\n",
    "import numpy.random as nr\n",
    "\n",
    "# ten random numbers between 0 and 10\n",
    "a = nr.random(10) * 10\n",
    "print(a)\n",
    "# isolate the fractional parts of the numbers\n",
    "b = a % 1\n",
    "print(b)"
   ]
  },
  {
   "cell_type": "markdown",
   "metadata": {},
   "source": [
    "## Random Walk"
   ]
  },
  {
   "cell_type": "markdown",
   "metadata": {},
   "source": [
    "We consider the one dimensional random walk. Starting from $x=0$ we walk in each time step a random step to the left or to the right with equal propability. We would like to estimate the quantities $\\langle d(t)\\rangle$ and $\\langle d(t)^2\\rangle$, where $d(t)$ is the distance from the origin at tine $t$:"
   ]
  },
  {
   "cell_type": "markdown",
   "metadata": {},
   "source": [
    "<img src=\"figs/random_walk.png\" style=\"width: 300px;\" style=\"height: 200px;\">  "
   ]
  },
  {
   "cell_type": "markdown",
   "metadata": {},
   "source": [
    "We will obtain the desired quantities by simulating 1000 walkers and 200 time steps.\n",
    "- Create a two-dimensional array with the walking stories of each worker in one direction and time in the other (see left side of the following figure).\n",
    "\n",
    "  **Hint:** The function `np.random.randint` allows you directly to create a 2D-array of random numbers)\n",
    "- Use the created array to obtain another array containing $d(t)$ for each walker ($d(t)$ is just the cumulated sum of the individual steps; see right side of the following figure).\n",
    "\n",
    "  **Hint:** Application of the `np.cumsum` function along the time-axis.\n",
    " \n",
    "- Obtain $\\langle d(t)\\rangle$ and $\\langle d(t)^2\\rangle$ and plot the quantities.\n",
    "\n",
    "  **Hints:** (1) Application of the `np.mean` function along the stories-axis; (2) You should know from your theoretical statistics/thermodynamics class (bachelor course) what you need to expect for $\\langle d(t)\\rangle$ and $\\langle d(t)^2\\rangle$!\n",
    "  \n",
    "If you hand in a script for this exercise, please name it `random_walk_YOUR_NAME.py`. "
   ]
  },
  {
   "cell_type": "markdown",
   "metadata": {},
   "source": [
    "<img src=\"figs/random_walk_schema.png\" style=\"width: 600px;\" style=\"height: 300px;\">  "
   ]
  },
  {
   "cell_type": "code",
   "execution_count": null,
   "metadata": {},
   "outputs": [],
   "source": [
    "# space for your solution"
   ]
  }
 ],
 "metadata": {
  "kernelspec": {
   "display_name": "Python 3",
   "language": "python",
   "name": "python3"
  },
  "language_info": {
   "codemirror_mode": {
    "name": "ipython",
    "version": 3
   },
   "file_extension": ".py",
   "mimetype": "text/x-python",
   "name": "python",
   "nbconvert_exporter": "python",
   "pygments_lexer": "ipython3",
   "version": "3.6.5"
  }
 },
 "nbformat": 4,
 "nbformat_minor": 1
}
