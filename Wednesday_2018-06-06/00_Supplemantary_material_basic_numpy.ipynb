{
 "cells": [
  {
   "cell_type": "markdown",
   "metadata": {},
   "source": [
    "# Supplementary material for basic-`numpy`"
   ]
  },
  {
   "cell_type": "markdown",
   "metadata": {},
   "source": [
    "## Functions and numpy-arrays\n",
    "From the very beginning, we used the `numpy` instead of the `math`-module to have the same interface for calculations with scalars and numpy arrays"
   ]
  },
  {
   "cell_type": "code",
   "execution_count": null,
   "metadata": {},
   "outputs": [],
   "source": [
    "import numpy as np\n",
    "\n",
    "x_s = 1.0  # scalar quantity\n",
    "y_s = np.sin(x_s)\n",
    "\n",
    "print(y_s)\n",
    "\n",
    "# x is an array in the following\n",
    "x_a = np.linspace(0.0, 2.0 * np.pi, 5)\n",
    "y_a = np.sin(x_a)\n",
    "\n",
    "print(x_a)"
   ]
  },
  {
   "cell_type": "markdown",
   "metadata": {},
   "source": [
    "Also many self-written mathematical functions work immediately with scalars and `numpy`-arrays"
   ]
  },
  {
   "cell_type": "code",
   "execution_count": null,
   "metadata": {},
   "outputs": [],
   "source": [
    "import numpy as np\n",
    "\n",
    "def sin_cos(x):\n",
    "    return np.sin(x) * np.cos(x)\n",
    "\n",
    "x_s = 1.0  # scalar quantity\n",
    "y_s = sin_cos(x_s)\n",
    "\n",
    "print(y_s)\n",
    "\n",
    "# x is an array in the following\n",
    "x_a = np.linspace(0.0, 2.0 * np.pi, 5)\n",
    "y_a = sin_cos(x_a)\n",
    "\n",
    "print(y_a)"
   ]
  },
  {
   "cell_type": "markdown",
   "metadata": {},
   "source": [
    "Problems occur mostly with functions involving case distinctions!"
   ]
  },
  {
   "cell_type": "code",
   "execution_count": null,
   "metadata": {},
   "outputs": [],
   "source": [
    "import numpy as np\n",
    "\n",
    "def my_sign(x):\n",
    "    \"\"\"\n",
    "    return the signum of each element in a numpy array\n",
    "    \"\"\"\n",
    "    \n",
    "    # we want to leave the original array unchanged\n",
    "    #x = np.asarray(x)\n",
    "    sign = np.zeros(x.shape, dtype=np.int64)\n",
    "    sign[x < 0] = -1\n",
    "    sign[x > 0] = 1\n",
    "    \n",
    "    return sign\n",
    "\n",
    "x = np.linspace(-5, 5, 11)\n",
    "sign = my_sign(x)\n",
    "print(sign)\n",
    "\n",
    "# note that this function makes problems when being\n",
    "# called with a scalar:\n",
    "x = -5\n",
    "print(x)\n",
    "sign = my_sign(x)\n",
    "print(sign)\n",
    "\n",
    "# one solution is to make sure within the function\n",
    "# that each input 'is' a numpy-array (see np.asarray-call\n",
    "# within the function). Note however that the output is then\n",
    "# 'numpy-scalar' and NOT a Python-float or int anymore!"
   ]
  },
  {
   "cell_type": "markdown",
   "metadata": {},
   "source": [
    "Similar problems can occur if you intend to use a function, originally written for scalars, to `numpy`-arrays later."
   ]
  },
  {
   "cell_type": "code",
   "execution_count": null,
   "metadata": {},
   "outputs": [],
   "source": [
    "import numpy as np\n",
    "\n",
    "def my_sign(x):\n",
    "    \"\"\"\n",
    "    return the signum of a scalar (float or int)\n",
    "    \"\"\"\n",
    "    \n",
    "    sign = 0\n",
    "    if x > 0:\n",
    "        sign = 1\n",
    "    if x < 0:\n",
    "        sign = -1\n",
    "        \n",
    "    return sign\n",
    "\n",
    "x = -10\n",
    "print(my_sign(x))\n",
    "\n",
    "# This function does not work out of the box with numpy\n",
    "# arrays becuase of the case-distinctions within the function\n",
    "#x = np.linspace(-5, 5, 11)\n",
    "#y = my_sign(x)\n",
    "#print(y)\n",
    "\n",
    "# The preferred solution is to rewrite your function to a\n",
    "# numpy-version! For test purposes, you can use the\n",
    "# np.vectorize function to transform any function for scalars\n",
    "# to a sime-numpy version. However, this is low (it internally\n",
    "# performs for-loops)!\n",
    "my_sign = np.vectorize(my_sign)\n",
    "x = np.linspace(-5, 5, 11)\n",
    "y = my_sign(x)\n",
    "print(y)\n",
    "\n"
   ]
  },
  {
   "cell_type": "markdown",
   "metadata": {},
   "source": [
    "## Arrays of random numbers\n",
    "`numpy` offers a *very* rich set of random number genrators within the `numpy.random` module."
   ]
  },
  {
   "cell_type": "code",
   "execution_count": null,
   "metadata": {},
   "outputs": [],
   "source": [
    "import numpy as np\n",
    "import numpy.random as nr\n",
    "\n",
    "# The most basic random number generators all deliver random numbers\n",
    "# in the interval [0; 1)\n",
    "\n",
    "# obtain an array with 10 random numbers\n",
    "x = nr.random(10)\n",
    "print(x)\n",
    "\n",
    "# Note that it is easy to then obtain random numbers\n",
    "# in each open interval of numbers (array stretching)\n",
    "\n",
    "# obtain random numbers in the interval [a; b)\n",
    "a = -10.\n",
    "b = 5.\n",
    "\n",
    "x = (b - a) * nr.random(10) + a\n",
    "print(x)"
   ]
  },
  {
   "cell_type": "code",
   "execution_count": null,
   "metadata": {},
   "outputs": [],
   "source": [
    "# To check out possible distributions for which random numbers\n",
    "# can be created\n",
    "import numpy.random as nr\n",
    "\n",
    "help(nr)"
   ]
  }
 ],
 "metadata": {
  "kernelspec": {
   "display_name": "Python 3",
   "language": "python",
   "name": "python3"
  },
  "language_info": {
   "codemirror_mode": {
    "name": "ipython",
    "version": 3
   },
   "file_extension": ".py",
   "mimetype": "text/x-python",
   "name": "python",
   "nbconvert_exporter": "python",
   "pygments_lexer": "ipython3",
   "version": "3.6.5"
  }
 },
 "nbformat": 4,
 "nbformat_minor": 2
}
